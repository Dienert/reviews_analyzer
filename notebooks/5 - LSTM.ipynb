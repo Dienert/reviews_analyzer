{
  "cells": [
    {
      "cell_type": "markdown",
      "metadata": {
        "id": "bGMH9T02EoCP"
      },
      "source": [
        "<a href=\"https://colab.research.google.com/github/Dienert/reviews_analyzer/blob/main/notebooks/5%20-%20LSTM.ipynb\" target=\"_parent\"><img src=\"https://colab.research.google.com/assets/colab-badge.svg\" alt=\"Open In Colab\"/></a>"
      ]
    },
    {
      "cell_type": "markdown",
      "metadata": {
        "id": "SOYNqRjaidyL"
      },
      "source": [
        "Reference:\n",
        "\n",
        "https://github.com/dipanjanS/nlp_workshop_odsc_europe20/blob/master/notebooks/Module_03_NLP%20Applications%20-%20Machine%20and%20Deep%20Learning/13_NLP_Applications_Text_Classification_Deep_Learning_Sequential_Models_LSTMs.ipynb"
      ]
    },
    {
      "cell_type": "markdown",
      "metadata": {
        "id": "f64bBXyhpxTR"
      },
      "source": [
        "# Text Classification - Deep Learning LSTM Models"
      ]
    },
    {
      "cell_type": "code",
      "execution_count": 1,
      "metadata": {
        "colab": {
          "base_uri": "https://localhost:8080/"
        },
        "id": "iayiP3GZrjjk",
        "outputId": "f8e9467e-88a3-4e24-c146-506dfeaedb4e"
      },
      "outputs": [
        {
          "name": "stdout",
          "output_type": "stream",
          "text": [
            "Requirement already satisfied: contractions in d:\\users\\dav\\anaconda3\\envs\\pos\\lib\\site-packages (0.1.68)\n",
            "Requirement already satisfied: textsearch>=0.0.21 in d:\\users\\dav\\anaconda3\\envs\\pos\\lib\\site-packages (from contractions) (0.0.21)\n",
            "Requirement already satisfied: anyascii in d:\\users\\dav\\anaconda3\\envs\\pos\\lib\\site-packages (from textsearch>=0.0.21->contractions) (0.3.0)\n",
            "Requirement already satisfied: pyahocorasick in d:\\users\\dav\\anaconda3\\envs\\pos\\lib\\site-packages (from textsearch>=0.0.21->contractions) (1.4.4)\n",
            "Requirement already satisfied: textsearch in d:\\users\\dav\\anaconda3\\envs\\pos\\lib\\site-packages (0.0.21)\n",
            "Requirement already satisfied: anyascii in d:\\users\\dav\\anaconda3\\envs\\pos\\lib\\site-packages (from textsearch) (0.3.0)\n",
            "Requirement already satisfied: pyahocorasick in d:\\users\\dav\\anaconda3\\envs\\pos\\lib\\site-packages (from textsearch) (1.4.4)\n",
            "Requirement already satisfied: tqdm in d:\\users\\dav\\anaconda3\\envs\\pos\\lib\\site-packages (4.62.3)\n",
            "Requirement already satisfied: colorama in d:\\users\\dav\\anaconda3\\envs\\pos\\lib\\site-packages (from tqdm) (0.4.4)\n"
          ]
        },
        {
          "name": "stderr",
          "output_type": "stream",
          "text": [
            "[nltk_data] Downloading package punkt to\n",
            "[nltk_data]     C:\\Users\\dav\\AppData\\Roaming\\nltk_data...\n",
            "[nltk_data]   Package punkt is already up-to-date!\n"
          ]
        },
        {
          "data": {
            "text/plain": [
              "True"
            ]
          },
          "execution_count": 1,
          "metadata": {},
          "output_type": "execute_result"
        }
      ],
      "source": [
        "!pip install contractions\n",
        "!pip install textsearch\n",
        "!pip install tqdm\n",
        "import nltk\n",
        "nltk.download('punkt')"
      ]
    },
    {
      "cell_type": "code",
      "execution_count": 2,
      "metadata": {
        "id": "Gbnh0egkUzRX"
      },
      "outputs": [],
      "source": [
        "import pandas as pd\n",
        "import numpy as np\n",
        "from tensorflow.keras.models import Sequential\n",
        "from tensorflow.keras.layers import Dense\n",
        "from tensorflow.keras.layers import Flatten\n",
        "from tensorflow.keras.layers import Conv1D\n",
        "from tensorflow.keras.layers import MaxPooling1D\n",
        "from tensorflow.keras.layers import Embedding\n",
        "from tensorflow.keras.preprocessing.text import Tokenizer\n",
        "from tensorflow.keras.preprocessing import sequence\n",
        "from sklearn.preprocessing import LabelEncoder\n",
        "\n",
        "# fix random seed for reproducibility\n",
        "seed = 42\n",
        "np.random.seed(seed)"
      ]
    },
    {
      "cell_type": "markdown",
      "metadata": {
        "id": "8_JEXODppxTc"
      },
      "source": [
        "## Load Movie Review Dataset"
      ]
    },
    {
      "cell_type": "code",
      "execution_count": 3,
      "metadata": {
        "id": "xChdMrAG-3jy"
      },
      "outputs": [],
      "source": [
        "label_type = 'final_label'"
      ]
    },
    {
      "cell_type": "code",
      "execution_count": 4,
      "metadata": {
        "colab": {
          "base_uri": "https://localhost:8080/"
        },
        "id": "OcMX6QMK-SRi",
        "outputId": "a556a876-0d01-429b-b2d0-8bcc44e70283"
      },
      "outputs": [],
      "source": [
        "datasets_path = f'../dataset/{label_type}/'\n",
        "# datasets_path = '.'"
      ]
    },
    {
      "cell_type": "code",
      "execution_count": 5,
      "metadata": {
        "colab": {
          "base_uri": "https://localhost:8080/"
        },
        "id": "pcALFFqpKxVl",
        "outputId": "d7f1a4d5-ee69-4a1a-9c82-6a006bff0f49"
      },
      "outputs": [],
      "source": [
        "# %%skip $skip_download_dataset\n",
        "# !curl -L https://raw.githubusercontent.com/Dienert/reviews_analyzer/main/dataset/final_label/train.csv > train.csv\n",
        "# !curl -L https://raw.githubusercontent.com/Dienert/reviews_analyzer/main/dataset/final_label/val.csv > val.csv\n",
        "# !curl -L https://raw.githubusercontent.com/Dienert/reviews_analyzer/main/dataset/final_label/test.csv > test.csv"
      ]
    },
    {
      "cell_type": "markdown",
      "metadata": {
        "id": "-qBM4Od_pxTp"
      },
      "source": [
        "### Prepare Train Test Split"
      ]
    },
    {
      "cell_type": "code",
      "execution_count": 6,
      "metadata": {
        "id": "2H8PpzrlGDwP"
      },
      "outputs": [],
      "source": [
        "import pandas as pd"
      ]
    },
    {
      "cell_type": "code",
      "execution_count": 7,
      "metadata": {
        "colab": {
          "base_uri": "https://localhost:8080/",
          "height": 423
        },
        "id": "M9UoW1Y5F8Oy",
        "outputId": "4aa37cfc-7df0-47d8-ae5b-27ae230ea3bb"
      },
      "outputs": [
        {
          "data": {
            "text/html": [
              "<div>\n",
              "<style scoped>\n",
              "    .dataframe tbody tr th:only-of-type {\n",
              "        vertical-align: middle;\n",
              "    }\n",
              "\n",
              "    .dataframe tbody tr th {\n",
              "        vertical-align: top;\n",
              "    }\n",
              "\n",
              "    .dataframe thead th {\n",
              "        text-align: right;\n",
              "    }\n",
              "</style>\n",
              "<table border=\"1\" class=\"dataframe\">\n",
              "  <thead>\n",
              "    <tr style=\"text-align: right;\">\n",
              "      <th></th>\n",
              "      <th>x</th>\n",
              "      <th>y</th>\n",
              "    </tr>\n",
              "  </thead>\n",
              "  <tbody>\n",
              "    <tr>\n",
              "      <th>0</th>\n",
              "      <td>Four Stars. thought provoking</td>\n",
              "      <td>1</td>\n",
              "    </tr>\n",
              "    <tr>\n",
              "      <th>1</th>\n",
              "      <td>Not What I Expected. Although a few of the sto...</td>\n",
              "      <td>0</td>\n",
              "    </tr>\n",
              "    <tr>\n",
              "      <th>2</th>\n",
              "      <td>Outliers - Gladwell - A Good Tour of the Outer...</td>\n",
              "      <td>1</td>\n",
              "    </tr>\n",
              "    <tr>\n",
              "      <th>3</th>\n",
              "      <td>Surprisingly good..... .. Interesting connecti...</td>\n",
              "      <td>1</td>\n",
              "    </tr>\n",
              "    <tr>\n",
              "      <th>4</th>\n",
              "      <td>Success. Good book to read for success</td>\n",
              "      <td>2</td>\n",
              "    </tr>\n",
              "    <tr>\n",
              "      <th>...</th>\n",
              "      <td>...</td>\n",
              "      <td>...</td>\n",
              "    </tr>\n",
              "    <tr>\n",
              "      <th>3420</th>\n",
              "      <td>Thoughts on Gladwell's Outliers: An exceptiona...</td>\n",
              "      <td>2</td>\n",
              "    </tr>\n",
              "    <tr>\n",
              "      <th>3421</th>\n",
              "      <td>Spellbinding. I haven't read other Gladwell bo...</td>\n",
              "      <td>2</td>\n",
              "    </tr>\n",
              "    <tr>\n",
              "      <th>3422</th>\n",
              "      <td>Very Thought Provoking. Excellent book. This b...</td>\n",
              "      <td>2</td>\n",
              "    </tr>\n",
              "    <tr>\n",
              "      <th>3423</th>\n",
              "      <td>Very Interesting and Well Done. This book help...</td>\n",
              "      <td>1</td>\n",
              "    </tr>\n",
              "    <tr>\n",
              "      <th>3424</th>\n",
              "      <td>Seeing the forest instead of the trees. Life i...</td>\n",
              "      <td>2</td>\n",
              "    </tr>\n",
              "  </tbody>\n",
              "</table>\n",
              "<p>3425 rows × 2 columns</p>\n",
              "</div>"
            ],
            "text/plain": [
              "                                                      x  y\n",
              "0                         Four Stars. thought provoking  1\n",
              "1     Not What I Expected. Although a few of the sto...  0\n",
              "2     Outliers - Gladwell - A Good Tour of the Outer...  1\n",
              "3     Surprisingly good..... .. Interesting connecti...  1\n",
              "4                Success. Good book to read for success  2\n",
              "...                                                 ... ..\n",
              "3420  Thoughts on Gladwell's Outliers: An exceptiona...  2\n",
              "3421  Spellbinding. I haven't read other Gladwell bo...  2\n",
              "3422  Very Thought Provoking. Excellent book. This b...  2\n",
              "3423  Very Interesting and Well Done. This book help...  1\n",
              "3424  Seeing the forest instead of the trees. Life i...  2\n",
              "\n",
              "[3425 rows x 2 columns]"
            ]
          },
          "execution_count": 7,
          "metadata": {},
          "output_type": "execute_result"
        }
      ],
      "source": [
        "train = pd.read_csv(f'{datasets_path}/train.csv')\n",
        "train"
      ]
    },
    {
      "cell_type": "code",
      "execution_count": 8,
      "metadata": {
        "colab": {
          "base_uri": "https://localhost:8080/"
        },
        "id": "xyit_GQfR1mO",
        "outputId": "c91c28a0-c283-474d-e35c-5f8cfa098c76"
      },
      "outputs": [
        {
          "data": {
            "text/plain": [
              "2    1520\n",
              "1    1231\n",
              "0     674\n",
              "Name: y, dtype: int64"
            ]
          },
          "execution_count": 8,
          "metadata": {},
          "output_type": "execute_result"
        }
      ],
      "source": [
        "train.y.value_counts()"
      ]
    },
    {
      "cell_type": "code",
      "execution_count": 9,
      "metadata": {
        "id": "dvae0YBYVj5x"
      },
      "outputs": [],
      "source": [
        "train_sentiments = train.y.map({0: 'negative', 1:'negative', 2:'positive'})"
      ]
    },
    {
      "cell_type": "code",
      "execution_count": 10,
      "metadata": {
        "colab": {
          "base_uri": "https://localhost:8080/"
        },
        "id": "DQGRgG-yVy5-",
        "outputId": "1fa73842-a477-4d6b-8ce4-52ef00ea4245"
      },
      "outputs": [
        {
          "data": {
            "text/plain": [
              "negative    1905\n",
              "positive    1520\n",
              "Name: y, dtype: int64"
            ]
          },
          "execution_count": 10,
          "metadata": {},
          "output_type": "execute_result"
        }
      ],
      "source": [
        "train_sentiments.value_counts()"
      ]
    },
    {
      "cell_type": "code",
      "execution_count": 11,
      "metadata": {
        "id": "_Z8MbzpPSIxm"
      },
      "outputs": [],
      "source": [
        "from imblearn.under_sampling import RandomUnderSampler\n",
        "\n",
        "rus = RandomUnderSampler(random_state=0)\n",
        "x_resampled, y_resampled = rus.fit_resample(train.x.values.reshape(-1,1), train_sentiments)"
      ]
    },
    {
      "cell_type": "code",
      "execution_count": 12,
      "metadata": {
        "colab": {
          "base_uri": "https://localhost:8080/"
        },
        "id": "-xvsCfPOSzu1",
        "outputId": "591cba17-b897-48b4-c65c-ad33031dfd87"
      },
      "outputs": [
        {
          "data": {
            "text/plain": [
              "array([[\"Great Read. Would recommend.. Similar writing to his other works. I've really enjoyed the way he thinks.\"],\n",
              "       ['Very interestings concepts. The ideas were very new and thought provoking. Some were logical and some were a surprise.'],\n",
              "       ['All In Education Should Read This. This book should be an interesting read for anyone, but I particularly want to highlight the need for all educators to read it. Current educational policy needs a whack on the side of the head. (I write this as an experienced teacher neck deep in No Child Left Behind, and the policy makers\\' forcing \"research based strategies\" into our lesson plans.) Do I think the research that Gladwell cites somehow trumps current mainstream educational research? Not necessarily. But it does give the reader a chance to pull their head out of today\\'s pervasive educational group think and consider alternatives.'],\n",
              "       ...,\n",
              "       ['Spellbinding. I haven\\'t read other Gladwell books but from what I\\'ve heard, he\\'s rather hit and miss. This is definitely a hit, starting with the excellent analysis of why so many ice hockey stars seem to be born early in the year and moving on to easy to read but insightful discussion of success in a range of fields. It\\'s never boring, not a word wasted but is worth the price of purchase alone for the chapter titled \"The Ethnic Theory of Plane Crashes\", which is about as stunning a chapter as I\\'ve read in non-fiction. I won\\'t give away anything on that theory, just read it for yourself; it is truly fascinating.'],\n",
              "       ['Very Thought Provoking. Excellent book. This book has been assigned to incoming freshmen at my school who are enrolled in the AVID program. I am going to be teaching an AVID elective course and wanted to read before school started in the fall. I am so glad I did, it is very interesting to see how we can change and become outliers as well.'],\n",
              "       ['Seeing the forest instead of the trees. Life is not fair. This small, fascinating book proves that it is not really a pick-yourself-up-by-your-bootstraps world. There are unnoticed biases and predetermined traps for the innocent everywhere. The successful have \"hidden advantages and extraordinary opportunities and cultural legacies\" that are doled out unfairly.']],\n",
              "      dtype=object)"
            ]
          },
          "execution_count": 12,
          "metadata": {},
          "output_type": "execute_result"
        }
      ],
      "source": [
        "x_resampled"
      ]
    },
    {
      "cell_type": "code",
      "execution_count": 13,
      "metadata": {
        "colab": {
          "base_uri": "https://localhost:8080/"
        },
        "id": "2awB4WmtTyst",
        "outputId": "c239ddd0-fee7-4204-95ad-cc12dc84003c"
      },
      "outputs": [
        {
          "data": {
            "text/plain": [
              "(3040, 1)"
            ]
          },
          "execution_count": 13,
          "metadata": {},
          "output_type": "execute_result"
        }
      ],
      "source": [
        "x_resampled.shape"
      ]
    },
    {
      "cell_type": "code",
      "execution_count": 14,
      "metadata": {
        "colab": {
          "base_uri": "https://localhost:8080/"
        },
        "id": "ugnIc9OeS3G0",
        "outputId": "0a313706-b266-4bfe-d437-f5e397749de7"
      },
      "outputs": [
        {
          "data": {
            "text/plain": [
              "0       Great Read. Would recommend.. Similar writing ...\n",
              "1       Very interestings concepts. The ideas were ver...\n",
              "2       All In Education Should Read This. This book s...\n",
              "3       Worthy Read: Gladwell's Intent. No, it [excell...\n",
              "4       Pretty good read.. Overall this is a pretty go...\n",
              "                              ...                        \n",
              "3035    Insightful, knowledgable and fun.. Brilliant b...\n",
              "3036    Thoughts on Gladwell's Outliers: An exceptiona...\n",
              "3037    Spellbinding. I haven't read other Gladwell bo...\n",
              "3038    Very Thought Provoking. Excellent book. This b...\n",
              "3039    Seeing the forest instead of the trees. Life i...\n",
              "Length: 3040, dtype: object"
            ]
          },
          "execution_count": 14,
          "metadata": {},
          "output_type": "execute_result"
        }
      ],
      "source": [
        "train_reviews = pd.Series(x_resampled.reshape(-1,))\n",
        "train_reviews"
      ]
    },
    {
      "cell_type": "code",
      "execution_count": 15,
      "metadata": {
        "id": "sNcDZm6kTUbU"
      },
      "outputs": [],
      "source": [
        "train_sentiments = pd.Series(y_resampled)"
      ]
    },
    {
      "cell_type": "code",
      "execution_count": 16,
      "metadata": {
        "colab": {
          "base_uri": "https://localhost:8080/"
        },
        "id": "6LoacUyGG21X",
        "outputId": "94c31c18-c1ab-4b55-9a70-8f16d08642bc"
      },
      "outputs": [
        {
          "data": {
            "text/plain": [
              "negative    1520\n",
              "positive    1520\n",
              "Name: y, dtype: int64"
            ]
          },
          "execution_count": 16,
          "metadata": {},
          "output_type": "execute_result"
        }
      ],
      "source": [
        "train_sentiments.value_counts()"
      ]
    },
    {
      "cell_type": "code",
      "execution_count": 17,
      "metadata": {
        "id": "c_4JBVADHD-0"
      },
      "outputs": [],
      "source": [
        "train_sentiments = train_sentiments.values"
      ]
    },
    {
      "cell_type": "code",
      "execution_count": 41,
      "metadata": {
        "colab": {
          "base_uri": "https://localhost:8080/",
          "height": 423
        },
        "id": "s1lZkWiGHALE",
        "outputId": "099936cf-db7a-4d69-830b-66cdacf0c5a8"
      },
      "outputs": [
        {
          "data": {
            "text/html": [
              "<div>\n",
              "<style scoped>\n",
              "    .dataframe tbody tr th:only-of-type {\n",
              "        vertical-align: middle;\n",
              "    }\n",
              "\n",
              "    .dataframe tbody tr th {\n",
              "        vertical-align: top;\n",
              "    }\n",
              "\n",
              "    .dataframe thead th {\n",
              "        text-align: right;\n",
              "    }\n",
              "</style>\n",
              "<table border=\"1\" class=\"dataframe\">\n",
              "  <thead>\n",
              "    <tr style=\"text-align: right;\">\n",
              "      <th></th>\n",
              "      <th>x</th>\n",
              "      <th>y</th>\n",
              "    </tr>\n",
              "  </thead>\n",
              "  <tbody>\n",
              "    <tr>\n",
              "      <th>0</th>\n",
              "      <td>Enlighting!. Very interesting book. It makes y...</td>\n",
              "      <td>1</td>\n",
              "    </tr>\n",
              "    <tr>\n",
              "      <th>1</th>\n",
              "      <td>Thoroughly enjoyed!. a highly relevant and wel...</td>\n",
              "      <td>2</td>\n",
              "    </tr>\n",
              "    <tr>\n",
              "      <th>2</th>\n",
              "      <td>a must read!. great book a must read!</td>\n",
              "      <td>2</td>\n",
              "    </tr>\n",
              "    <tr>\n",
              "      <th>3</th>\n",
              "      <td>Okay for a Used Book. It looks okay for a used...</td>\n",
              "      <td>0</td>\n",
              "    </tr>\n",
              "    <tr>\n",
              "      <th>4</th>\n",
              "      <td>Great service and Great book. Great arrival ti...</td>\n",
              "      <td>2</td>\n",
              "    </tr>\n",
              "    <tr>\n",
              "      <th>...</th>\n",
              "      <td>...</td>\n",
              "      <td>...</td>\n",
              "    </tr>\n",
              "    <tr>\n",
              "      <th>537</th>\n",
              "      <td>Well written. The author, Malcolm Gladwell, pr...</td>\n",
              "      <td>2</td>\n",
              "    </tr>\n",
              "    <tr>\n",
              "      <th>538</th>\n",
              "      <td>Causes one to stop and think. Really an intere...</td>\n",
              "      <td>1</td>\n",
              "    </tr>\n",
              "    <tr>\n",
              "      <th>539</th>\n",
              "      <td>Very Interesting. Gladwell does looks at thing...</td>\n",
              "      <td>2</td>\n",
              "    </tr>\n",
              "    <tr>\n",
              "      <th>540</th>\n",
              "      <td>Wonderful. Bought this following a recommendat...</td>\n",
              "      <td>2</td>\n",
              "    </tr>\n",
              "    <tr>\n",
              "      <th>541</th>\n",
              "      <td>Good. Was an interesting read. New insights to...</td>\n",
              "      <td>0</td>\n",
              "    </tr>\n",
              "  </tbody>\n",
              "</table>\n",
              "<p>542 rows × 2 columns</p>\n",
              "</div>"
            ],
            "text/plain": [
              "                                                     x  y\n",
              "0    Enlighting!. Very interesting book. It makes y...  1\n",
              "1    Thoroughly enjoyed!. a highly relevant and wel...  2\n",
              "2                a must read!. great book a must read!  2\n",
              "3    Okay for a Used Book. It looks okay for a used...  0\n",
              "4    Great service and Great book. Great arrival ti...  2\n",
              "..                                                 ... ..\n",
              "537  Well written. The author, Malcolm Gladwell, pr...  2\n",
              "538  Causes one to stop and think. Really an intere...  1\n",
              "539  Very Interesting. Gladwell does looks at thing...  2\n",
              "540  Wonderful. Bought this following a recommendat...  2\n",
              "541  Good. Was an interesting read. New insights to...  0\n",
              "\n",
              "[542 rows x 2 columns]"
            ]
          },
          "execution_count": 41,
          "metadata": {},
          "output_type": "execute_result"
        }
      ],
      "source": [
        "val = pd.read_csv(f'{datasets_path}/val.csv')\n",
        "val"
      ]
    },
    {
      "cell_type": "code",
      "execution_count": 42,
      "metadata": {
        "colab": {
          "base_uri": "https://localhost:8080/"
        },
        "id": "d5ZE-sgAHIZY",
        "outputId": "174f1ed1-aa1c-49b3-df82-cbf1922a6ec8"
      },
      "outputs": [
        {
          "data": {
            "text/plain": [
              "negative    302\n",
              "positive    240\n",
              "Name: y, dtype: int64"
            ]
          },
          "execution_count": 42,
          "metadata": {},
          "output_type": "execute_result"
        }
      ],
      "source": [
        "val_reviews = val.x\n",
        "val_sentiments = val.y.map({0: 'negative', 1:'negative', 2:'positive'})\n",
        "val_sentiments.value_counts()"
      ]
    },
    {
      "cell_type": "code",
      "execution_count": 43,
      "metadata": {
        "id": "pnxSLv7THXEu"
      },
      "outputs": [],
      "source": [
        "val_sentiments = val_sentiments.values"
      ]
    },
    {
      "cell_type": "code",
      "execution_count": 44,
      "metadata": {
        "colab": {
          "base_uri": "https://localhost:8080/",
          "height": 423
        },
        "id": "s1lZkWiGHALE",
        "outputId": "099936cf-db7a-4d69-830b-66cdacf0c5a8"
      },
      "outputs": [
        {
          "data": {
            "text/html": [
              "<div>\n",
              "<style scoped>\n",
              "    .dataframe tbody tr th:only-of-type {\n",
              "        vertical-align: middle;\n",
              "    }\n",
              "\n",
              "    .dataframe tbody tr th {\n",
              "        vertical-align: top;\n",
              "    }\n",
              "\n",
              "    .dataframe thead th {\n",
              "        text-align: right;\n",
              "    }\n",
              "</style>\n",
              "<table border=\"1\" class=\"dataframe\">\n",
              "  <thead>\n",
              "    <tr style=\"text-align: right;\">\n",
              "      <th></th>\n",
              "      <th>x</th>\n",
              "      <th>y</th>\n",
              "    </tr>\n",
              "  </thead>\n",
              "  <tbody>\n",
              "    <tr>\n",
              "      <th>0</th>\n",
              "      <td>A great read and worth every penny!. My first ...</td>\n",
              "      <td>2</td>\n",
              "    </tr>\n",
              "    <tr>\n",
              "      <th>1</th>\n",
              "      <td>Senior English. Dear Mr. Gladwell, \u0002 am a seni...</td>\n",
              "      <td>1</td>\n",
              "    </tr>\n",
              "    <tr>\n",
              "      <th>2</th>\n",
              "      <td>Outliers - Gladwell - A Good Tour of the Outer...</td>\n",
              "      <td>1</td>\n",
              "    </tr>\n",
              "    <tr>\n",
              "      <th>3</th>\n",
              "      <td>Five Stars. I like Malcolm Gladwell books.</td>\n",
              "      <td>2</td>\n",
              "    </tr>\n",
              "    <tr>\n",
              "      <th>4</th>\n",
              "      <td>A Different Perspective on the Nature of Succe...</td>\n",
              "      <td>2</td>\n",
              "    </tr>\n",
              "    <tr>\n",
              "      <th>...</th>\n",
              "      <td>...</td>\n",
              "      <td>...</td>\n",
              "    </tr>\n",
              "    <tr>\n",
              "      <th>537</th>\n",
              "      <td>Worth the money. page quality is good but its ...</td>\n",
              "      <td>1</td>\n",
              "    </tr>\n",
              "    <tr>\n",
              "      <th>538</th>\n",
              "      <td>Absolute Genius. This is the first book I read...</td>\n",
              "      <td>2</td>\n",
              "    </tr>\n",
              "    <tr>\n",
              "      <th>539</th>\n",
              "      <td>Excellent book. Outliers is an intriguing book...</td>\n",
              "      <td>2</td>\n",
              "    </tr>\n",
              "    <tr>\n",
              "      <th>540</th>\n",
              "      <td>Another article turned into a book. This is ye...</td>\n",
              "      <td>0</td>\n",
              "    </tr>\n",
              "    <tr>\n",
              "      <th>541</th>\n",
              "      <td>Here is my animated review!</td>\n",
              "      <td>1</td>\n",
              "    </tr>\n",
              "  </tbody>\n",
              "</table>\n",
              "<p>542 rows × 2 columns</p>\n",
              "</div>"
            ],
            "text/plain": [
              "                                                     x  y\n",
              "0    A great read and worth every penny!. My first ...  2\n",
              "1    Senior English. Dear Mr. Gladwell, \u0002 am a seni...  1\n",
              "2    Outliers - Gladwell - A Good Tour of the Outer...  1\n",
              "3           Five Stars. I like Malcolm Gladwell books.  2\n",
              "4    A Different Perspective on the Nature of Succe...  2\n",
              "..                                                 ... ..\n",
              "537  Worth the money. page quality is good but its ...  1\n",
              "538  Absolute Genius. This is the first book I read...  2\n",
              "539  Excellent book. Outliers is an intriguing book...  2\n",
              "540  Another article turned into a book. This is ye...  0\n",
              "541                        Here is my animated review!  1\n",
              "\n",
              "[542 rows x 2 columns]"
            ]
          },
          "execution_count": 44,
          "metadata": {},
          "output_type": "execute_result"
        }
      ],
      "source": [
        "test = pd.read_csv(f'{datasets_path}/test.csv')\n",
        "test"
      ]
    },
    {
      "cell_type": "code",
      "execution_count": 45,
      "metadata": {
        "colab": {
          "base_uri": "https://localhost:8080/"
        },
        "id": "d5ZE-sgAHIZY",
        "outputId": "174f1ed1-aa1c-49b3-df82-cbf1922a6ec8"
      },
      "outputs": [
        {
          "data": {
            "text/plain": [
              "negative    302\n",
              "positive    240\n",
              "Name: y, dtype: int64"
            ]
          },
          "execution_count": 45,
          "metadata": {},
          "output_type": "execute_result"
        }
      ],
      "source": [
        "test_reviews = test.x\n",
        "test_sentiments = test.y.map({0: 'negative', 1:'negative', 2:'positive'})\n",
        "test_sentiments.value_counts()"
      ]
    },
    {
      "cell_type": "code",
      "execution_count": 46,
      "metadata": {
        "id": "pnxSLv7THXEu"
      },
      "outputs": [],
      "source": [
        "test_sentiments = test_sentiments.values"
      ]
    },
    {
      "cell_type": "markdown",
      "metadata": {
        "id": "CETaiGM2tO_d"
      },
      "source": [
        "# Text Wrangling & Normalization"
      ]
    },
    {
      "cell_type": "code",
      "execution_count": 21,
      "metadata": {
        "id": "tkFyu9u3tUOi"
      },
      "outputs": [],
      "source": [
        "import contractions\n",
        "from bs4 import BeautifulSoup\n",
        "import numpy as np\n",
        "import re\n",
        "import tqdm\n",
        "import unicodedata\n",
        "\n",
        "\n",
        "def strip_html_tags(text):\n",
        "  soup = BeautifulSoup(text, \"html.parser\")\n",
        "  [s.extract() for s in soup(['iframe', 'script'])]\n",
        "  stripped_text = soup.get_text()\n",
        "  stripped_text = re.sub(r'[\\r|\\n|\\r\\n]+', '\\n', stripped_text)\n",
        "  return stripped_text\n",
        "\n",
        "def remove_accented_chars(text):\n",
        "  text = unicodedata.normalize('NFKD', text).encode('ascii', 'ignore').decode('utf-8', 'ignore')\n",
        "  return text\n",
        "\n",
        "def pre_process_corpus(docs):\n",
        "  norm_docs = []\n",
        "  for doc in tqdm.tqdm(docs):\n",
        "    doc = strip_html_tags(doc)\n",
        "    doc = doc.translate(doc.maketrans(\"\\n\\t\\r\", \"   \"))\n",
        "    doc = doc.lower()\n",
        "    doc = remove_accented_chars(doc)\n",
        "    doc = contractions.fix(doc)\n",
        "    # lower case and remove special characters\\whitespaces\n",
        "    doc = re.sub(r'[^a-zA-Z0-9\\s]', '', doc, re.I|re.A)\n",
        "    doc = re.sub(' +', ' ', doc)\n",
        "    doc = doc.strip()  \n",
        "    norm_docs.append(doc)\n",
        "  \n",
        "  return norm_docs"
      ]
    },
    {
      "cell_type": "code",
      "execution_count": 47,
      "metadata": {
        "colab": {
          "base_uri": "https://localhost:8080/"
        },
        "id": "EgAqgSnHtap5",
        "outputId": "543f9cee-9f1d-405c-ca99-533ac90daf73"
      },
      "outputs": [
        {
          "name": "stderr",
          "output_type": "stream",
          "text": [
            "100%|██████████| 3040/3040 [00:00<00:00, 4275.49it/s]\n",
            "100%|██████████| 542/542 [00:00<00:00, 5827.41it/s]\n",
            "100%|██████████| 542/542 [00:00<00:00, 5474.95it/s]"
          ]
        },
        {
          "name": "stdout",
          "output_type": "stream",
          "text": [
            "CPU times: total: 906 ms\n",
            "Wall time: 912 ms\n"
          ]
        },
        {
          "name": "stderr",
          "output_type": "stream",
          "text": [
            "\n"
          ]
        }
      ],
      "source": [
        "%%time\n",
        "\n",
        "norm_train_reviews = pre_process_corpus(train_reviews)\n",
        "norm_val_reviews = pre_process_corpus(val_reviews)\n",
        "norm_test_reviews = pre_process_corpus(test_reviews)"
      ]
    },
    {
      "cell_type": "markdown",
      "metadata": {
        "id": "COgKPRmLpxTu"
      },
      "source": [
        "## Preprocessing\n",
        "\n",
        "To prepare text data for our deep learning model, we transform each review into a sequence.\n",
        "Every word in the review is mapped to an integer index and thus the sentence turns into a sequence of numbers.\n",
        "\n",
        "To perform this transformation, keras provides the ```Tokenizer```"
      ]
    },
    {
      "cell_type": "code",
      "execution_count": 48,
      "metadata": {
        "id": "dff8sG63cw03"
      },
      "outputs": [],
      "source": [
        "t = Tokenizer(oov_token='<UNK>')\n",
        "# fit the tokenizer on the documents\n",
        "t.fit_on_texts(norm_train_reviews)\n",
        "t.word_index['<PAD>'] = 0"
      ]
    },
    {
      "cell_type": "code",
      "execution_count": 49,
      "metadata": {
        "colab": {
          "base_uri": "https://localhost:8080/"
        },
        "id": "0xd_eGZ1vQRR",
        "outputId": "87c39547-1865-4e02-93e8-a0c7dce45eac"
      },
      "outputs": [
        {
          "data": {
            "text/plain": [
              "(('unfairly', 7566), ('<PAD>', 0), 1)"
            ]
          },
          "execution_count": 49,
          "metadata": {},
          "output_type": "execute_result"
        }
      ],
      "source": [
        "max([(k, v) for k, v in t.word_index.items()], key = lambda x:x[1]), min([(k, v) for k, v in t.word_index.items()], key = lambda x:x[1]), t.word_index['<UNK>']"
      ]
    },
    {
      "cell_type": "code",
      "execution_count": 50,
      "metadata": {
        "id": "4yv_m8T5c2xg"
      },
      "outputs": [],
      "source": [
        "train_sequences = t.texts_to_sequences(norm_train_reviews)"
      ]
    },
    {
      "cell_type": "code",
      "execution_count": 52,
      "metadata": {
        "id": "ifZCCxtydEnc"
      },
      "outputs": [],
      "source": [
        "test_sequences = t.texts_to_sequences(norm_test_reviews)"
      ]
    },
    {
      "cell_type": "code",
      "execution_count": 53,
      "metadata": {
        "colab": {
          "base_uri": "https://localhost:8080/"
        },
        "id": "ldkDHyjZgaFV",
        "outputId": "eb8720fb-0262-4e86-f7c1-6b38e8a4d0cc"
      },
      "outputs": [
        {
          "name": "stdout",
          "output_type": "stream",
          "text": [
            "Vocabulary size=7567\n",
            "Number of Documents=3040\n"
          ]
        }
      ],
      "source": [
        "print(\"Vocabulary size={}\".format(len(t.word_index)))\n",
        "print(\"Number of Documents={}\".format(t.document_count))"
      ]
    },
    {
      "cell_type": "code",
      "execution_count": 59,
      "metadata": {
        "colab": {
          "base_uri": "https://localhost:8080/",
          "height": 374
        },
        "id": "CQjiXA7Ntw13",
        "outputId": "01c1eeed-c96d-4e67-abc7-bc73d64aebc6"
      },
      "outputs": [
        {
          "data": {
            "image/png": "[encoded data removed]",
            "text/plain": [
              "<Figure size 1440x432 with 3 Axes>"
            ]
          },
          "metadata": {
            "needs_background": "light"
          },
          "output_type": "display_data"
        }
      ],
      "source": [
        "import matplotlib.pyplot as plt\n",
        "%matplotlib inline\n",
        "\n",
        "train_lens = [len(s) for s in train_sequences]\n",
        "val_lens = [len(s) for s in val_sequences]\n",
        "test_lens = [len(s) for s in test_sequences]\n",
        "\n",
        "fig, ax = plt.subplots(1,3, figsize=(20, 6))\n",
        "h1 = ax[0].hist(train_lens)\n",
        "h2 = ax[1].hist(val_lens)\n",
        "h3 = ax[2].hist(test_lens)"
      ]
    },
    {
      "cell_type": "markdown",
      "metadata": {
        "id": "xfZwP6C8pxT8"
      },
      "source": [
        "### Sequence Normalization\n",
        "\n",
        "Not all reviews are of same length. To handle this difference in length of reviews, we define a maximum length.\n",
        "For reviews which are smaller than this length, we pad them with zeros which longer ones are truncated"
      ]
    },
    {
      "cell_type": "code",
      "execution_count": 60,
      "metadata": {
        "id": "BtuGJ0wXjQnC"
      },
      "outputs": [],
      "source": [
        "MAX_SEQUENCE_LENGTH = 1000"
      ]
    },
    {
      "cell_type": "code",
      "execution_count": 62,
      "metadata": {
        "colab": {
          "base_uri": "https://localhost:8080/"
        },
        "id": "wAnv99kzWA5k",
        "outputId": "4e915ec0-71b2-4576-d651-e799462c3243"
      },
      "outputs": [
        {
          "data": {
            "text/plain": [
              "((3040, 1000), (542, 1000), (542, 1000))"
            ]
          },
          "execution_count": 62,
          "metadata": {},
          "output_type": "execute_result"
        }
      ],
      "source": [
        "# pad dataset to a maximum review length in words\n",
        "X_train = sequence.pad_sequences(train_sequences, maxlen=MAX_SEQUENCE_LENGTH)\n",
        "X_val = sequence.pad_sequences(val_sequences, maxlen=MAX_SEQUENCE_LENGTH)\n",
        "X_test = sequence.pad_sequences(test_sequences, maxlen=MAX_SEQUENCE_LENGTH)\n",
        "X_train.shape, X_val.shape, X_test.shape"
      ]
    },
    {
      "cell_type": "code",
      "execution_count": 63,
      "metadata": {},
      "outputs": [
        {
          "data": {
            "text/plain": [
              "array([[   0,    0,    0, ...,   76,   38,  855],\n",
              "       [   0,    0,    0, ...,   81,    5, 1687],\n",
              "       [   0,    0,    0, ...,    3,  527, 3076],\n",
              "       ...,\n",
              "       [   0,    0,    0, ...,    9,  400,  113],\n",
              "       [   0,    0,    0, ...,   41,   26,   55],\n",
              "       [   0,    0,    0, ..., 7565,   97, 7566]])"
            ]
          },
          "execution_count": 63,
          "metadata": {},
          "output_type": "execute_result"
        }
      ],
      "source": [
        "X_train"
      ]
    },
    {
      "cell_type": "markdown",
      "metadata": {
        "id": "9X_4ticSpxUC"
      },
      "source": [
        "### Encoding Labels\n",
        "\n",
        "The dataset contains labels of the form positive/negative. The following step encodes the labels using ```sklearn's``` ```LabelEncoder```"
      ]
    },
    {
      "cell_type": "code",
      "execution_count": 64,
      "metadata": {
        "id": "rRMaWb1ldqyl"
      },
      "outputs": [],
      "source": [
        "le = LabelEncoder()\n",
        "num_classes=2 # positive -> 1, negative -> 0"
      ]
    },
    {
      "cell_type": "code",
      "execution_count": 65,
      "metadata": {
        "id": "tJjbtyDjfsd1"
      },
      "outputs": [],
      "source": [
        "y_train = le.fit_transform(train_sentiments)\n",
        "y_val = le.fit_transform(val_sentiments)\n",
        "y_test = le.transform(test_sentiments)"
      ]
    },
    {
      "cell_type": "markdown",
      "metadata": {
        "colab_type": "text",
        "id": "t1ScFo641sFW"
      },
      "source": [
        "# LSTM Model"
      ]
    },
    {
      "cell_type": "markdown",
      "metadata": {
        "colab_type": "text",
        "id": "uaPlrBcU-3av"
      },
      "source": [
        "# Build Model Architecture\n",
        "\n",
        "\n",
        "# Embeddings\n",
        "\n",
        "The Embedding layer helps us generate the word embeddings from scratch. This layer\n",
        "is also initialized with some weights and is updated based on our optimizer, similar to\n",
        "weights on the neuron units in other layers when the network tries to minimize the loss\n",
        "in each epoch. Thus, the embedding layer tries to optimize its weights such that we get\n",
        "the best word embeddings that will generate minimum error in the model and capture\n",
        "semantic similarity and relationships among words. How do we get the embeddings?\n",
        "Let’s say we have a review with three terms ['movie', 'was', 'good'] and a vocab_map\n",
        "consisting of word to index mappings for 175860 words. \n",
        "\n",
        "![](https://i.imgur.com/WuV47DW.png)\n",
        "\n",
        "\n",
        "# LSTM\n",
        "\n",
        "LSTMs try to overcome\n",
        "the shortcomings of RNN models, especially with regard to handling long-term\n",
        "dependencies and problems that occur when the weight matrix associated with the\n",
        "units (neurons) become too small (leading to vanishing gradient) or too large (leading to\n",
        "exploding gradient). These architectures are more complex than regular deep networks\n",
        "and going into detailed internals and math concepts are out of the current scope, but we\n",
        "will try to cover the essentials here without making it math heavy\n",
        "\n",
        "![](https://i.imgur.com/c8qGKX8.png)\n",
        "\n",
        "The sequence of operations in the LSTM cell is briefly shown as follows.\n",
        "\n",
        "![](https://i.imgur.com/uiIbDk1.png)"
      ]
    },
    {
      "cell_type": "code",
      "execution_count": 34,
      "metadata": {},
      "outputs": [],
      "source": [
        "import tensorflow as tf"
      ]
    },
    {
      "cell_type": "code",
      "execution_count": 36,
      "metadata": {},
      "outputs": [],
      "source": [
        "VOCAB_SIZE = len(t.word_index)"
      ]
    },
    {
      "cell_type": "code",
      "execution_count": 68,
      "metadata": {
        "colab": {
          "base_uri": "https://localhost:8080/",
          "height": 319
        },
        "colab_type": "code",
        "id": "_M8LbmqR1vbO",
        "outputId": "6ec34ddd-d749-4674-8633-142322010338"
      },
      "outputs": [
        {
          "name": "stdout",
          "output_type": "stream",
          "text": [
            "Model: \"sequential_3\"\n",
            "_________________________________________________________________\n",
            "Layer (type)                 Output Shape              Param #   \n",
            "=================================================================\n",
            "embedding_2 (Embedding)      (None, 1000, 300)         2270100   \n",
            "_________________________________________________________________\n",
            "spatial_dropout1d_2 (Spatial (None, 1000, 300)         0         \n",
            "_________________________________________________________________\n",
            "lstm_2 (LSTM)                (None, 128)               219648    \n",
            "_________________________________________________________________\n",
            "dense_4 (Dense)              (None, 256)               33024     \n",
            "_________________________________________________________________\n",
            "dense_5 (Dense)              (None, 1)                 257       \n",
            "=================================================================\n",
            "Total params: 2,523,029\n",
            "Trainable params: 2,523,029\n",
            "Non-trainable params: 0\n",
            "_________________________________________________________________\n"
          ]
        }
      ],
      "source": [
        "EMBEDDING_DIM = 300 # dimension for dense embeddings for each token\n",
        "LSTM_DIM = 128 # total LSTM units\n",
        "\n",
        "model = tf.keras.models.Sequential()\n",
        "model.add(tf.keras.layers.Embedding(input_dim=VOCAB_SIZE, output_dim=EMBEDDING_DIM, input_length=MAX_SEQUENCE_LENGTH))\n",
        "model.add(tf.keras.layers.SpatialDropout1D(0.1))\n",
        "model.add(tf.keras.layers.LSTM(LSTM_DIM, return_sequences=False))\n",
        "model.add(tf.keras.layers.Dense(256, activation='relu'))\n",
        "model.add(tf.keras.layers.Dense(1, activation=\"sigmoid\"))\n",
        "\n",
        "model.compile(loss=\"binary_crossentropy\", optimizer=\"adam\",\n",
        "              metrics=[\"accuracy\"])\n",
        "model.summary()"
      ]
    },
    {
      "cell_type": "markdown",
      "metadata": {
        "colab_type": "text",
        "id": "uRB4rNgo-533"
      },
      "source": [
        "## Train Model"
      ]
    },
    {
      "cell_type": "code",
      "execution_count": null,
      "metadata": {},
      "outputs": [],
      "source": [
        "model.fit()"
      ]
    },
    {
      "cell_type": "code",
      "execution_count": 69,
      "metadata": {
        "colab": {
          "base_uri": "https://localhost:8080/",
          "height": 202
        },
        "colab_type": "code",
        "id": "uPqowrsh2vFb",
        "outputId": "7c78b7e2-5051-4488-a35d-d8bfc0bb1197"
      },
      "outputs": [
        {
          "name": "stdout",
          "output_type": "stream",
          "text": [
            "Epoch 1/10\n",
            "24/24 [==============================] - 245s 10s/step - loss: 0.6717 - accuracy: 0.5816 - val_loss: 0.6418 - val_accuracy: 0.6218\n",
            "Epoch 2/10\n",
            "24/24 [==============================] - 246s 10s/step - loss: 0.4758 - accuracy: 0.7757 - val_loss: 0.5151 - val_accuracy: 0.7325\n",
            "Epoch 3/10\n",
            "24/24 [==============================] - 254s 11s/step - loss: 0.2555 - accuracy: 0.9030 - val_loss: 0.5258 - val_accuracy: 0.7989\n",
            "Epoch 4/10\n",
            "24/24 [==============================] - ETA: 0s - loss: 0.1268 - accuracy: 0.9520 Restoring model weights from the end of the best epoch.\n",
            "24/24 [==============================] - 256s 11s/step - loss: 0.1268 - accuracy: 0.9520 - val_loss: 0.5868 - val_accuracy: 0.8100\n",
            "Epoch 00004: early stopping\n"
          ]
        },
        {
          "data": {
            "text/plain": [
              "<tensorflow.python.keras.callbacks.History at 0x21474b71160>"
            ]
          },
          "execution_count": 69,
          "metadata": {},
          "output_type": "execute_result"
        }
      ],
      "source": [
        "batch_size = 128\n",
        "EPOCHS = 10\n",
        "\n",
        "es = tf.keras.callbacks.EarlyStopping(monitor='val_loss', \n",
        "                                      patience=2,\n",
        "                                      restore_best_weights=True,\n",
        "                                      verbose=1)\n",
        "\n",
        "model.fit(X_train, y_train, epochs=EPOCHS, batch_size=batch_size, \n",
        "          callbacks=[es],\n",
        "          shuffle=True, validation_data=(X_val, y_val), verbose=1)"
      ]
    },
    {
      "cell_type": "markdown",
      "metadata": {
        "colab_type": "text",
        "id": "0EzC-IW9-7sm"
      },
      "source": [
        "## Evaluate Model Performance"
      ]
    },
    {
      "cell_type": "code",
      "execution_count": 70,
      "metadata": {
        "colab": {
          "base_uri": "https://localhost:8080/",
          "height": 50
        },
        "colab_type": "code",
        "id": "kQvfAor127iS",
        "outputId": "456505dc-9375-4fcc-ab5b-0c556bf0f5d3"
      },
      "outputs": [
        {
          "name": "stdout",
          "output_type": "stream",
          "text": [
            "17/17 [==============================] - 6s 342ms/step - loss: 0.4885 - accuracy: 0.7601\n",
            "Accuracy: 76.01%\n"
          ]
        }
      ],
      "source": [
        "# Final evaluation of the model\n",
        "scores = model.evaluate(X_test, y_test, verbose=1)\n",
        "print(\"Accuracy: %.2f%%\" % (scores[1]*100))"
      ]
    },
    {
      "cell_type": "code",
      "execution_count": 71,
      "metadata": {
        "colab": {
          "base_uri": "https://localhost:8080/",
          "height": 104
        },
        "colab_type": "code",
        "id": "p_LePG_y4IX5",
        "outputId": "7d9fdc16-6233-4ea3-b984-8a6ea9479399"
      },
      "outputs": [
        {
          "name": "stdout",
          "output_type": "stream",
          "text": [
            "WARNING:tensorflow:From C:\\Users\\dav\\AppData\\Local\\Temp\\ipykernel_42092\\2660390571.py:1: Sequential.predict_classes (from tensorflow.python.keras.engine.sequential) is deprecated and will be removed after 2021-01-01.\n",
            "Instructions for updating:\n",
            "Please use instead:* `np.argmax(model.predict(x), axis=-1)`,   if your model does multi-class classification   (e.g. if it uses a `softmax` last-layer activation).* `(model.predict(x) > 0.5).astype(\"int32\")`,   if your model does binary classification   (e.g. if it uses a `sigmoid` last-layer activation).\n"
          ]
        },
        {
          "data": {
            "text/plain": [
              "array([1, 0, 0, 1, 0, 1, 1, 0, 0, 0])"
            ]
          },
          "execution_count": 71,
          "metadata": {},
          "output_type": "execute_result"
        }
      ],
      "source": [
        "predictions = model.predict_classes(X_test).ravel()\n",
        "predictions[:10]"
      ]
    },
    {
      "cell_type": "code",
      "execution_count": 72,
      "metadata": {
        "colab": {
          "base_uri": "https://localhost:8080/",
          "height": 185
        },
        "colab_type": "code",
        "id": "JCifYtx04Ia1",
        "outputId": "2b65104d-90c5-4eb4-cfa3-782062f1fc34"
      },
      "outputs": [
        {
          "data": {
            "text/plain": [
              "['positive',\n",
              " 'negative',\n",
              " 'negative',\n",
              " 'positive',\n",
              " 'negative',\n",
              " 'positive',\n",
              " 'positive',\n",
              " 'negative',\n",
              " 'negative',\n",
              " 'negative']"
            ]
          },
          "execution_count": 72,
          "metadata": {},
          "output_type": "execute_result"
        }
      ],
      "source": [
        "predictions = ['positive' if item == 1 else 'negative' for item in predictions]\n",
        "predictions[:10]"
      ]
    },
    {
      "cell_type": "code",
      "execution_count": 73,
      "metadata": {
        "colab": {
          "base_uri": "https://localhost:8080/",
          "height": 258
        },
        "colab_type": "code",
        "id": "GFUgpD9E4IgE",
        "outputId": "b993ffb8-3774-425b-f16c-9c015fb64464"
      },
      "outputs": [
        {
          "name": "stdout",
          "output_type": "stream",
          "text": [
            "              precision    recall  f1-score   support\n",
            "\n",
            "    negative       0.76      0.83      0.79       302\n",
            "    positive       0.76      0.67      0.71       240\n",
            "\n",
            "    accuracy                           0.76       542\n",
            "   macro avg       0.76      0.75      0.75       542\n",
            "weighted avg       0.76      0.76      0.76       542\n",
            "\n"
          ]
        },
        {
          "data": {
            "text/html": [
              "<div>\n",
              "<style scoped>\n",
              "    .dataframe tbody tr th:only-of-type {\n",
              "        vertical-align: middle;\n",
              "    }\n",
              "\n",
              "    .dataframe tbody tr th {\n",
              "        vertical-align: top;\n",
              "    }\n",
              "\n",
              "    .dataframe thead th {\n",
              "        text-align: right;\n",
              "    }\n",
              "</style>\n",
              "<table border=\"1\" class=\"dataframe\">\n",
              "  <thead>\n",
              "    <tr style=\"text-align: right;\">\n",
              "      <th></th>\n",
              "      <th>negative</th>\n",
              "      <th>positive</th>\n",
              "    </tr>\n",
              "  </thead>\n",
              "  <tbody>\n",
              "    <tr>\n",
              "      <th>negative</th>\n",
              "      <td>252</td>\n",
              "      <td>50</td>\n",
              "    </tr>\n",
              "    <tr>\n",
              "      <th>positive</th>\n",
              "      <td>80</td>\n",
              "      <td>160</td>\n",
              "    </tr>\n",
              "  </tbody>\n",
              "</table>\n",
              "</div>"
            ],
            "text/plain": [
              "          negative  positive\n",
              "negative       252        50\n",
              "positive        80       160"
            ]
          },
          "execution_count": 73,
          "metadata": {},
          "output_type": "execute_result"
        }
      ],
      "source": [
        "from sklearn.metrics import confusion_matrix, classification_report\n",
        "\n",
        "labels = ['negative', 'positive']\n",
        "print(classification_report(test_sentiments, predictions))\n",
        "pd.DataFrame(confusion_matrix(test_sentiments, predictions), index=labels, columns=labels)"
      ]
    },
    {
      "cell_type": "markdown",
      "metadata": {
        "colab_type": "text",
        "id": "fq9Ccs3Y-_Fh"
      },
      "source": [
        "# Stacked LSTM Model"
      ]
    },
    {
      "cell_type": "markdown",
      "metadata": {
        "colab_type": "text",
        "id": "aMSEnyBE_BSU"
      },
      "source": [
        "## Build Model Architecture"
      ]
    },
    {
      "cell_type": "code",
      "execution_count": 74,
      "metadata": {
        "colab": {
          "base_uri": "https://localhost:8080/",
          "height": 353
        },
        "colab_type": "code",
        "id": "8As3OAUg4Ijb",
        "outputId": "cd028680-7cc5-4e23-d14c-1139c2293a17"
      },
      "outputs": [
        {
          "name": "stdout",
          "output_type": "stream",
          "text": [
            "Model: \"sequential_4\"\n",
            "_________________________________________________________________\n",
            "Layer (type)                 Output Shape              Param #   \n",
            "=================================================================\n",
            "embedding_3 (Embedding)      (None, 1000, 300)         2270100   \n",
            "_________________________________________________________________\n",
            "spatial_dropout1d_3 (Spatial (None, 1000, 300)         0         \n",
            "_________________________________________________________________\n",
            "lstm_3 (LSTM)                (None, 1000, 128)         219648    \n",
            "_________________________________________________________________\n",
            "lstm_4 (LSTM)                (None, 128)               131584    \n",
            "_________________________________________________________________\n",
            "dense_6 (Dense)              (None, 256)               33024     \n",
            "_________________________________________________________________\n",
            "dense_7 (Dense)              (None, 1)                 257       \n",
            "=================================================================\n",
            "Total params: 2,654,613\n",
            "Trainable params: 2,654,613\n",
            "Non-trainable params: 0\n",
            "_________________________________________________________________\n"
          ]
        }
      ],
      "source": [
        "model2 = tf.keras.models.Sequential()\n",
        "model2.add(tf.keras.layers.Embedding(input_dim=VOCAB_SIZE, output_dim=EMBEDDING_DIM, input_length=MAX_SEQUENCE_LENGTH))\n",
        "model2.add(tf.keras.layers.SpatialDropout1D(0.1))\n",
        "model2.add(tf.keras.layers.LSTM(LSTM_DIM, return_sequences=True))\n",
        "model2.add(tf.keras.layers.LSTM(LSTM_DIM, return_sequences=False))\n",
        "model2.add(tf.keras.layers.Dense(256, activation='relu'))\n",
        "model2.add(tf.keras.layers.Dense(1, activation=\"sigmoid\"))\n",
        "\n",
        "model2.compile(loss=\"binary_crossentropy\", optimizer=\"adam\",\n",
        "              metrics=[\"accuracy\"])\n",
        "model2.summary()"
      ]
    },
    {
      "cell_type": "markdown",
      "metadata": {
        "colab_type": "text",
        "id": "tYwqw31s_Ehx"
      },
      "source": [
        "## Train Model"
      ]
    },
    {
      "cell_type": "code",
      "execution_count": 75,
      "metadata": {
        "colab": {
          "base_uri": "https://localhost:8080/",
          "height": 202
        },
        "colab_type": "code",
        "id": "atBaIleW5RWI",
        "outputId": "e79b3354-416f-4df2-d6d6-074833620356"
      },
      "outputs": [
        {
          "name": "stdout",
          "output_type": "stream",
          "text": [
            "Epoch 1/10\n",
            "22/22 [==============================] - 525s 24s/step - loss: 0.6639 - accuracy: 0.6023 - val_loss: 0.8268 - val_accuracy: 0.3059\n",
            "Epoch 2/10\n",
            "22/22 [==============================] - 558s 25s/step - loss: 0.4616 - accuracy: 0.7811 - val_loss: 0.4079 - val_accuracy: 0.8125\n",
            "Epoch 3/10\n",
            "22/22 [==============================] - 573s 26s/step - loss: 0.2444 - accuracy: 0.9020 - val_loss: 0.5674 - val_accuracy: 0.7599\n",
            "Epoch 4/10\n",
            "22/22 [==============================] - ETA: 0s - loss: 0.1249 - accuracy: 0.9569 Restoring model weights from the end of the best epoch.\n",
            "22/22 [==============================] - 576s 26s/step - loss: 0.1249 - accuracy: 0.9569 - val_loss: 1.0066 - val_accuracy: 0.8026\n",
            "Epoch 00004: early stopping\n"
          ]
        },
        {
          "data": {
            "text/plain": [
              "<tensorflow.python.keras.callbacks.History at 0x214756a5430>"
            ]
          },
          "execution_count": 75,
          "metadata": {},
          "output_type": "execute_result"
        }
      ],
      "source": [
        "batch_size = 128\n",
        "EPOCHS = 10\n",
        "\n",
        "es = tf.keras.callbacks.EarlyStopping(monitor='val_loss', \n",
        "                                      patience=2,\n",
        "                                      restore_best_weights=True,\n",
        "                                      verbose=1)\n",
        "\n",
        "model2.fit(X_train, y_train, epochs=EPOCHS, batch_size=batch_size, \n",
        "           callbacks=[es],\n",
        "           shuffle=True, validation_split=0.1, verbose=1)"
      ]
    },
    {
      "cell_type": "markdown",
      "metadata": {
        "colab_type": "text",
        "id": "rLUkLa-d_IrV"
      },
      "source": [
        "## Evaluate Model Performance"
      ]
    },
    {
      "cell_type": "code",
      "execution_count": 76,
      "metadata": {
        "colab": {
          "base_uri": "https://localhost:8080/",
          "height": 50
        },
        "colab_type": "code",
        "id": "lGDVL22K5UZ_",
        "outputId": "4646c63e-c906-4e29-b7d6-00e152423e18"
      },
      "outputs": [
        {
          "name": "stdout",
          "output_type": "stream",
          "text": [
            "17/17 [==============================] - 13s 794ms/step - loss: 0.4992 - accuracy: 0.7601\n",
            "Accuracy: 76.01%\n"
          ]
        }
      ],
      "source": [
        "# Final evaluation of the model\n",
        "scores = model2.evaluate(X_test, y_test, verbose=1)\n",
        "print(\"Accuracy: %.2f%%\" % (scores[1]*100))"
      ]
    },
    {
      "cell_type": "code",
      "execution_count": 77,
      "metadata": {
        "colab": {
          "base_uri": "https://localhost:8080/",
          "height": 34
        },
        "colab_type": "code",
        "id": "wHnuwJNW5VUT",
        "outputId": "75d07761-52c1-4e47-c626-96b53072ef61"
      },
      "outputs": [
        {
          "data": {
            "text/plain": [
              "array([1, 0, 0, 1, 1, 1, 1, 0, 1, 0])"
            ]
          },
          "execution_count": 77,
          "metadata": {},
          "output_type": "execute_result"
        }
      ],
      "source": [
        "predictions = model2.predict_classes(X_test).ravel()\n",
        "predictions[:10]"
      ]
    },
    {
      "cell_type": "code",
      "execution_count": 78,
      "metadata": {
        "colab": {
          "base_uri": "https://localhost:8080/",
          "height": 185
        },
        "colab_type": "code",
        "id": "ksyEEPA25XeU",
        "outputId": "5d0d7433-c10a-43c5-d414-9b8e0ab177b1"
      },
      "outputs": [
        {
          "data": {
            "text/plain": [
              "['positive',\n",
              " 'negative',\n",
              " 'negative',\n",
              " 'positive',\n",
              " 'positive',\n",
              " 'positive',\n",
              " 'positive',\n",
              " 'negative',\n",
              " 'positive',\n",
              " 'negative']"
            ]
          },
          "execution_count": 78,
          "metadata": {},
          "output_type": "execute_result"
        }
      ],
      "source": [
        "predictions = ['positive' if item == 1 else 'negative' for item in predictions]\n",
        "predictions[:10]"
      ]
    },
    {
      "cell_type": "code",
      "execution_count": 79,
      "metadata": {
        "colab": {
          "base_uri": "https://localhost:8080/",
          "height": 258
        },
        "colab_type": "code",
        "id": "jMS7pZ3a5XjD",
        "outputId": "16807f6c-6cae-4713-ffc4-6e89b6713698"
      },
      "outputs": [
        {
          "name": "stdout",
          "output_type": "stream",
          "text": [
            "              precision    recall  f1-score   support\n",
            "\n",
            "    negative       0.81      0.75      0.78       302\n",
            "    positive       0.71      0.78      0.74       240\n",
            "\n",
            "    accuracy                           0.76       542\n",
            "   macro avg       0.76      0.76      0.76       542\n",
            "weighted avg       0.76      0.76      0.76       542\n",
            "\n"
          ]
        },
        {
          "data": {
            "text/html": [
              "<div>\n",
              "<style scoped>\n",
              "    .dataframe tbody tr th:only-of-type {\n",
              "        vertical-align: middle;\n",
              "    }\n",
              "\n",
              "    .dataframe tbody tr th {\n",
              "        vertical-align: top;\n",
              "    }\n",
              "\n",
              "    .dataframe thead th {\n",
              "        text-align: right;\n",
              "    }\n",
              "</style>\n",
              "<table border=\"1\" class=\"dataframe\">\n",
              "  <thead>\n",
              "    <tr style=\"text-align: right;\">\n",
              "      <th></th>\n",
              "      <th>negative</th>\n",
              "      <th>positive</th>\n",
              "    </tr>\n",
              "  </thead>\n",
              "  <tbody>\n",
              "    <tr>\n",
              "      <th>negative</th>\n",
              "      <td>226</td>\n",
              "      <td>76</td>\n",
              "    </tr>\n",
              "    <tr>\n",
              "      <th>positive</th>\n",
              "      <td>54</td>\n",
              "      <td>186</td>\n",
              "    </tr>\n",
              "  </tbody>\n",
              "</table>\n",
              "</div>"
            ],
            "text/plain": [
              "          negative  positive\n",
              "negative       226        76\n",
              "positive        54       186"
            ]
          },
          "execution_count": 79,
          "metadata": {},
          "output_type": "execute_result"
        }
      ],
      "source": [
        "labels = ['negative', 'positive']\n",
        "print(classification_report(test_sentiments, predictions))\n",
        "pd.DataFrame(confusion_matrix(test_sentiments, predictions), index=labels, columns=labels)"
      ]
    }
  ],
  "metadata": {
    "accelerator": "GPU",
    "anaconda-cloud": {},
    "colab": {
      "collapsed_sections": [],
      "name": "4 - CNN.ipynb",
      "provenance": []
    },
    "kernelspec": {
      "display_name": "Python 3",
      "language": "python",
      "name": "python3"
    },
    "language_info": {
      "codemirror_mode": {
        "name": "ipython",
        "version": 3
      },
      "file_extension": ".py",
      "mimetype": "text/x-python",
      "name": "python",
      "nbconvert_exporter": "python",
      "pygments_lexer": "ipython3",
      "version": "3.8.0"
    }
  },
  "nbformat": 4,
  "nbformat_minor": 0
}
