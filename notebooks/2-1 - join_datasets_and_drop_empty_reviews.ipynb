{
 "cells": [
  {
   "cell_type": "code",
   "execution_count": 117,
   "metadata": {},
   "outputs": [],
   "source": [
    "import pandas as pd\n",
    "from glob import glob\n",
    "import re"
   ]
  },
  {
   "cell_type": "code",
   "execution_count": 118,
   "metadata": {},
   "outputs": [
    {
     "data": {
      "text/plain": [
       "['../dataset/cleansed\\\\amazon.csv',\n",
       " '../dataset/cleansed\\\\audible.csv',\n",
       " '../dataset/cleansed\\\\barnesandnoble.csv',\n",
       " '../dataset/cleansed\\\\flipkart.csv',\n",
       " '../dataset/cleansed\\\\goodreads.csv']"
      ]
     },
     "execution_count": 118,
     "metadata": {},
     "output_type": "execute_result"
    }
   ],
   "source": [
    "datasets = glob(\"../dataset/cleansed/*\")\n",
    "datasets"
   ]
  },
  {
   "cell_type": "code",
   "execution_count": 119,
   "metadata": {},
   "outputs": [
    {
     "data": {
      "text/html": [
       "<div>\n",
       "<style scoped>\n",
       "    .dataframe tbody tr th:only-of-type {\n",
       "        vertical-align: middle;\n",
       "    }\n",
       "\n",
       "    .dataframe tbody tr th {\n",
       "        vertical-align: top;\n",
       "    }\n",
       "\n",
       "    .dataframe thead th {\n",
       "        text-align: right;\n",
       "    }\n",
       "</style>\n",
       "<table border=\"1\" class=\"dataframe\">\n",
       "  <thead>\n",
       "    <tr style=\"text-align: right;\">\n",
       "      <th></th>\n",
       "      <th>reviewer</th>\n",
       "      <th>stars</th>\n",
       "      <th>title</th>\n",
       "      <th>review</th>\n",
       "      <th>date</th>\n",
       "      <th>country</th>\n",
       "    </tr>\n",
       "  </thead>\n",
       "  <tbody>\n",
       "    <tr>\n",
       "      <th>0</th>\n",
       "      <td>Spectrum314k</td>\n",
       "      <td>1</td>\n",
       "      <td>Journalism and pseudoscience</td>\n",
       "      <td>Journalism and pseudoscience. Having read lots...</td>\n",
       "      <td>2017-11-12</td>\n",
       "      <td>Reino Unido</td>\n",
       "    </tr>\n",
       "    <tr>\n",
       "      <th>1</th>\n",
       "      <td>Stiven Skyrah</td>\n",
       "      <td>5</td>\n",
       "      <td>Salient and grounded</td>\n",
       "      <td>Salient and grounded. ​Gladwell argues that su...</td>\n",
       "      <td>2018-03-03</td>\n",
       "      <td>Reino Unido</td>\n",
       "    </tr>\n",
       "    <tr>\n",
       "      <th>2</th>\n",
       "      <td>J C Mitchinson</td>\n",
       "      <td>3</td>\n",
       "      <td>Interesting enough but certainly no revelation</td>\n",
       "      <td>Interesting enough but certainly no revelation...</td>\n",
       "      <td>2014-06-23</td>\n",
       "      <td>Reino Unido</td>\n",
       "    </tr>\n",
       "    <tr>\n",
       "      <th>3</th>\n",
       "      <td>Marty M</td>\n",
       "      <td>5</td>\n",
       "      <td>Fascinating and  thought-provoking</td>\n",
       "      <td>Fascinating and  thought-provoking. It takes a...</td>\n",
       "      <td>2019-01-17</td>\n",
       "      <td>Reino Unido</td>\n",
       "    </tr>\n",
       "    <tr>\n",
       "      <th>4</th>\n",
       "      <td>bobrayner</td>\n",
       "      <td>3</td>\n",
       "      <td>Enjoyable read but scientifically it makes me ...</td>\n",
       "      <td>Enjoyable read but scientifically it makes me ...</td>\n",
       "      <td>2020-02-18</td>\n",
       "      <td>Reino Unido</td>\n",
       "    </tr>\n",
       "    <tr>\n",
       "      <th>...</th>\n",
       "      <td>...</td>\n",
       "      <td>...</td>\n",
       "      <td>...</td>\n",
       "      <td>...</td>\n",
       "      <td>...</td>\n",
       "      <td>...</td>\n",
       "    </tr>\n",
       "    <tr>\n",
       "      <th>25</th>\n",
       "      <td>Tanu</td>\n",
       "      <td>5</td>\n",
       "      <td>NaN</td>\n",
       "      <td>NaN</td>\n",
       "      <td>2021-05-25</td>\n",
       "      <td>NaN</td>\n",
       "    </tr>\n",
       "    <tr>\n",
       "      <th>26</th>\n",
       "      <td>Kressel Housman</td>\n",
       "      <td>5</td>\n",
       "      <td>NaN</td>\n",
       "      <td>This has got to be Malcolm Gladwell’s best boo...</td>\n",
       "      <td>2008-12-11</td>\n",
       "      <td>NaN</td>\n",
       "    </tr>\n",
       "    <tr>\n",
       "      <th>27</th>\n",
       "      <td>Emma Deplores Goodreads Censorship</td>\n",
       "      <td>2</td>\n",
       "      <td>NaN</td>\n",
       "      <td>This is one of those books that give popular n...</td>\n",
       "      <td>2019-07-21</td>\n",
       "      <td>NaN</td>\n",
       "    </tr>\n",
       "    <tr>\n",
       "      <th>28</th>\n",
       "      <td>Riku Sayuj</td>\n",
       "      <td>5</td>\n",
       "      <td>NaN</td>\n",
       "      <td>My first exposure to Gladwell. SO was more or ...</td>\n",
       "      <td>2011-07-14</td>\n",
       "      <td>NaN</td>\n",
       "    </tr>\n",
       "    <tr>\n",
       "      <th>29</th>\n",
       "      <td>Tatevik is on semi hiatus (trying to finish PHD)</td>\n",
       "      <td>5</td>\n",
       "      <td>NaN</td>\n",
       "      <td>This is officially the best book of 2019. Damn...</td>\n",
       "      <td>2019-12-28</td>\n",
       "      <td>NaN</td>\n",
       "    </tr>\n",
       "  </tbody>\n",
       "</table>\n",
       "<p>10037 rows × 6 columns</p>\n",
       "</div>"
      ],
      "text/plain": [
       "                                            reviewer stars  \\\n",
       "0                                       Spectrum314k     1   \n",
       "1                                      Stiven Skyrah     5   \n",
       "2                                     J C Mitchinson     3   \n",
       "3                                            Marty M     5   \n",
       "4                                          bobrayner     3   \n",
       "..                                               ...   ...   \n",
       "25                                              Tanu     5   \n",
       "26                                   Kressel Housman     5   \n",
       "27                Emma Deplores Goodreads Censorship     2   \n",
       "28                                        Riku Sayuj     5   \n",
       "29  Tatevik is on semi hiatus (trying to finish PHD)     5   \n",
       "\n",
       "                                                title  \\\n",
       "0                        Journalism and pseudoscience   \n",
       "1                                Salient and grounded   \n",
       "2      Interesting enough but certainly no revelation   \n",
       "3                  Fascinating and  thought-provoking   \n",
       "4   Enjoyable read but scientifically it makes me ...   \n",
       "..                                                ...   \n",
       "25                                                NaN   \n",
       "26                                                NaN   \n",
       "27                                                NaN   \n",
       "28                                                NaN   \n",
       "29                                                NaN   \n",
       "\n",
       "                                               review        date      country  \n",
       "0   Journalism and pseudoscience. Having read lots...  2017-11-12  Reino Unido  \n",
       "1   Salient and grounded. ​Gladwell argues that su...  2018-03-03  Reino Unido  \n",
       "2   Interesting enough but certainly no revelation...  2014-06-23  Reino Unido  \n",
       "3   Fascinating and  thought-provoking. It takes a...  2019-01-17  Reino Unido  \n",
       "4   Enjoyable read but scientifically it makes me ...  2020-02-18  Reino Unido  \n",
       "..                                                ...         ...          ...  \n",
       "25                                                NaN  2021-05-25          NaN  \n",
       "26  This has got to be Malcolm Gladwell’s best boo...  2008-12-11          NaN  \n",
       "27  This is one of those books that give popular n...  2019-07-21          NaN  \n",
       "28  My first exposure to Gladwell. SO was more or ...  2011-07-14          NaN  \n",
       "29  This is officially the best book of 2019. Damn...  2019-12-28          NaN  \n",
       "\n",
       "[10037 rows x 6 columns]"
      ]
     },
     "execution_count": 119,
     "metadata": {},
     "output_type": "execute_result"
    }
   ],
   "source": [
    "df = pd.DataFrame([])\n",
    "for dataset in datasets:\n",
    "    tmp_df = pd.read_csv(dataset)\n",
    "    df = pd.concat([df, tmp_df])\n",
    "df"
   ]
  },
  {
   "cell_type": "code",
   "execution_count": 120,
   "metadata": {},
   "outputs": [
    {
     "data": {
      "text/plain": [
       "False    8880\n",
       "True     1157\n",
       "Name: review, dtype: int64"
      ]
     },
     "execution_count": 120,
     "metadata": {},
     "output_type": "execute_result"
    }
   ],
   "source": [
    "df.review.isna().value_counts()"
   ]
  },
  {
   "cell_type": "code",
   "execution_count": 121,
   "metadata": {},
   "outputs": [],
   "source": [
    "df = df.dropna(subset=['review'])\n",
    "df = df.drop(columns=['reviewer', 'title'])"
   ]
  },
  {
   "cell_type": "code",
   "execution_count": 122,
   "metadata": {},
   "outputs": [],
   "source": [
    "df['review'] = df.review.apply(lambda review: re.sub(r\"\\s*(\\n\\s*)+(\\D)\", \" \\2\", review).replace(r'\\s(\\s+|\\t+)', ' ').replace(r'  ', ' ').strip())"
   ]
  },
  {
   "cell_type": "code",
   "execution_count": 123,
   "metadata": {},
   "outputs": [
    {
     "data": {
      "text/plain": [
       "8880"
      ]
     },
     "execution_count": 123,
     "metadata": {},
     "output_type": "execute_result"
    }
   ],
   "source": [
    "len(df)"
   ]
  },
  {
   "cell_type": "code",
   "execution_count": 124,
   "metadata": {},
   "outputs": [],
   "source": [
    "test = '''Fascinating Information but Limited Self-Help. As many people at work were raving about this book I needed to read it for myself. I was a little reluctant at first because of some of the Amazon reviews saying that Gladwell culled information from a lot of studies and that the reader would be better served going to some of those studies themsleves. \n",
    " \n",
    " Gladwell has done an excellent job of poring through mountains of data and presented many of these studies in a concise way that can be understood by any layman. Most of the information is presented in a logical and interesting progression. I thoroughly enjoyed reading it in the same way when I am flipping channels and I see something marvelous structure being built on a Discovery Channel show. \n",
    " \n",
    " Though the information is fascinating and I enjoyed reading most of the book, I wonder if this is really a \"\"self-help\"\" book or not. The first few chapters talk about how successful people are made. Having not been born in the first three months of the year, I already missed the first level of success. Not having 1,000 hours available to master something new, I missed the next idea. I was not born in the ideal years for success in the computer field (1952-1955) and my parents were not clothing makers in Eastern Europe. \n",
    " \n",
    " I was not born Asian so I will never have the mastery of math that someone that speaks and Asian language has from the time they started first learning numbers. Then the chapter on the likelihood of a crash based on ethnic background makes one be more frightened to fly on one of the airlines that may have a pilot and copilot from a \"\"class-laden\"\" country. I assume that the studies and new training methods have since reduced these risks. \n",
    " \n",
    " What it all comes down to is that this is a fun read and I definately recommend the book because the reader will find most of it fascinating. But there is very little information that can be used for those that want a \"\"self-help\"\" manual to be successful.'''"
   ]
  },
  {
   "cell_type": "code",
   "execution_count": 125,
   "metadata": {},
   "outputs": [
    {
     "data": {
      "text/plain": [
       "'Fascinating Information but Limited Self-Help. As many people at work were raving about this book I needed to read it for myself. I was a little reluctant at first because of some of the Amazon reviews saying that Gladwell culled information from a lot of studies and that the reader would be better served going to some of those studies themsleves. \\n \\n Gladwell has done an excellent job of poring through mountains of data and presented many of these studies in a concise way that can be understood by any layman. Most of the information is presented in a logical and interesting progression. I thoroughly enjoyed reading it in the same way when I am flipping channels and I see something marvelous structure being built on a Discovery Channel show. \\n \\n Though the information is fascinating and I enjoyed reading most of the book, I wonder if this is really a \"\"self-help\"\" book or not. The first few chapters talk about how successful people are made. Having not been born in the first three months of the year, I already missed the first level of success. Not having 1,000 hours available to master something new, I missed the next idea. I was not born in the ideal years for success in the computer field (1952-1955) and my parents were not clothing makers in Eastern Europe. \\n \\n I was not born Asian so I will never have the mastery of math that someone that speaks and Asian language has from the time they started first learning numbers. Then the chapter on the likelihood of a crash based on ethnic background makes one be more frightened to fly on one of the airlines that may have a pilot and copilot from a \"\"class-laden\"\" country. I assume that the studies and new training methods have since reduced these risks. \\n \\n What it all comes down to is that this is a fun read and I definately recommend the book because the reader will find most of it fascinating. But there is very little information that can be used for those that want a \"\"self-help\"\" manual to be successful.'"
      ]
     },
     "execution_count": 125,
     "metadata": {},
     "output_type": "execute_result"
    }
   ],
   "source": [
    "test"
   ]
  },
  {
   "cell_type": "code",
   "execution_count": 126,
   "metadata": {},
   "outputs": [
    {
     "data": {
      "text/plain": [
       "'Fascinating Information but Limited Self-Help. As many people at work were raving about this book I needed to read it for myself. I was a little reluctant at first because of some of the Amazon reviews saying that Gladwell culled information from a lot of studies and that the reader would be better served going to some of those studies themsleves. Gladwell has done an excellent job of poring through mountains of data and presented many of these studies in a concise way that can be understood by any layman. Most of the information is presented in a logical and interesting progression. I thoroughly enjoyed reading it in the same way when I am flipping channels and I see something marvelous structure being built on a Discovery Channel show. Though the information is fascinating and I enjoyed reading most of the book, I wonder if this is really a \"\"self-help\"\" book or not. The first few chapters talk about how successful people are made. Having not been born in the first three months of the year, I already missed the first level of success. Not having 1,000 hours available to master something new, I missed the next idea. I was not born in the ideal years for success in the computer field (1952-1955) and my parents were not clothing makers in Eastern Europe. I was not born Asian so I will never have the mastery of math that someone that speaks and Asian language has from the time they started first learning numbers. Then the chapter on the likelihood of a crash based on ethnic background makes one be more frightened to fly on one of the airlines that may have a pilot and copilot from a \"\"class-laden\"\" country. I assume that the studies and new training methods have since reduced these risks. What it all comes down to is that this is a fun read and I definately recommend the book because the reader will find most of it fascinating. But there is very little information that can be used for those that want a \"\"self-help\"\" manual to be successful.'"
      ]
     },
     "execution_count": 126,
     "metadata": {},
     "output_type": "execute_result"
    }
   ],
   "source": [
    "re.sub(r\"\\s*(\\n\\s*)+(\\D)\",r\" \\2\", test)"
   ]
  },
  {
   "cell_type": "code",
   "execution_count": 127,
   "metadata": {},
   "outputs": [],
   "source": [
    "test2 = \"\"\"The Outliers is a look at what author Malcolm Gladwell thinks ma. The Outliers is a look at what author Malcolm Gladwell thinks make a person successful. Gladwell talks about family, location and time of being born.  These are all subjects that define us to the point whether we struggle getting the success or stuck at the bottom.\n",
    "\n",
    "\n",
    "\n",
    "\n",
    "I thought the first half of Outliers was interesting as Gladwell talks about months and years people are born that may factor into a person success.  \n",
    "\n",
    "\n",
    "\n",
    "\n",
    "I was more or less bored reading the second half which discussed families, and locations that define how hard you are going to work to be successful.  I also did not agree some of the facts discussed in the second half.\n",
    "\n",
    "\n",
    "\n",
    "\n",
    "Outliers is an interesting read.  I picked it because some of the other books I had been reading mentioned it.   I would be interested in some of Gladwell&amp;rsquo;s other books.    \"\"\""
   ]
  },
  {
   "cell_type": "code",
   "execution_count": 128,
   "metadata": {},
   "outputs": [
    {
     "data": {
      "text/plain": [
       "'The Outliers is a look at what author Malcolm Gladwell thinks ma. The Outliers is a look at what author Malcolm Gladwell thinks make a person successful. Gladwell talks about family, location and time of being born. \\xa0These are all subjects that define us to the point whether we struggle getting the success or stuck at the bottom. I thought the first half of Outliers was interesting as Gladwell talks about months and years people are born that may factor into a person success. I was more or less bored reading the second half which discussed families, and locations that define how hard you are going to work to be successful. \\xa0I also did not agree some of the facts discussed in the second half. Outliers is an interesting read. \\xa0I picked it because some of the other books I had been reading mentioned it. \\xa0 I would be interested in some of Gladwell&amp;rsquo;s other books. \\xa0 \\xa0'"
      ]
     },
     "execution_count": 128,
     "metadata": {},
     "output_type": "execute_result"
    }
   ],
   "source": [
    "re.sub(r\"\\s*(\\n\\s*)+(\\D)\",r\" \\2\", test2)"
   ]
  },
  {
   "cell_type": "code",
   "execution_count": 129,
   "metadata": {},
   "outputs": [],
   "source": [
    "df = df.reset_index(drop=True)"
   ]
  },
  {
   "cell_type": "code",
   "execution_count": 130,
   "metadata": {},
   "outputs": [
    {
     "data": {
      "text/html": [
       "<div>\n",
       "<style scoped>\n",
       "    .dataframe tbody tr th:only-of-type {\n",
       "        vertical-align: middle;\n",
       "    }\n",
       "\n",
       "    .dataframe tbody tr th {\n",
       "        vertical-align: top;\n",
       "    }\n",
       "\n",
       "    .dataframe thead th {\n",
       "        text-align: right;\n",
       "    }\n",
       "</style>\n",
       "<table border=\"1\" class=\"dataframe\">\n",
       "  <thead>\n",
       "    <tr style=\"text-align: right;\">\n",
       "      <th></th>\n",
       "      <th>stars</th>\n",
       "      <th>review</th>\n",
       "      <th>date</th>\n",
       "      <th>country</th>\n",
       "    </tr>\n",
       "  </thead>\n",
       "  <tbody>\n",
       "    <tr>\n",
       "      <th>8164</th>\n",
       "      <td>o</td>\n",
       "      <td>life changing.... A must read.</td>\n",
       "      <td>2010-05-14</td>\n",
       "      <td>NaN</td>\n",
       "    </tr>\n",
       "    <tr>\n",
       "      <th>8171</th>\n",
       "      <td>o</td>\n",
       "      <td>great. Wish there were more!</td>\n",
       "      <td>2010-02-23</td>\n",
       "      <td>NaN</td>\n",
       "    </tr>\n",
       "    <tr>\n",
       "      <th>8193</th>\n",
       "      <td>o</td>\n",
       "      <td>very interesting. wow a very interesting book</td>\n",
       "      <td>2009-09-15</td>\n",
       "      <td>NaN</td>\n",
       "    </tr>\n",
       "    <tr>\n",
       "      <th>8205</th>\n",
       "      <td>o</td>\n",
       "      <td>Ground breaking. It all makes such sense</td>\n",
       "      <td>2009-07-02</td>\n",
       "      <td>NaN</td>\n",
       "    </tr>\n",
       "    <tr>\n",
       "      <th>8348</th>\n",
       "      <td>o</td>\n",
       "      <td>Outliers. Excellent Book !</td>\n",
       "      <td>2009-08-25</td>\n",
       "      <td>NaN</td>\n",
       "    </tr>\n",
       "    <tr>\n",
       "      <th>8351</th>\n",
       "      <td>o</td>\n",
       "      <td>Loved it!. Highly recommend it!</td>\n",
       "      <td>2009-04-20</td>\n",
       "      <td>NaN</td>\n",
       "    </tr>\n",
       "    <tr>\n",
       "      <th>8370</th>\n",
       "      <td>o</td>\n",
       "      <td>Outliers. an Eye opener</td>\n",
       "      <td>2009-03-22</td>\n",
       "      <td>NaN</td>\n",
       "    </tr>\n",
       "    <tr>\n",
       "      <th>8381</th>\n",
       "      <td>o</td>\n",
       "      <td>liked it a lot. great reader</td>\n",
       "      <td>2009-04-12</td>\n",
       "      <td>NaN</td>\n",
       "    </tr>\n",
       "  </tbody>\n",
       "</table>\n",
       "</div>"
      ],
      "text/plain": [
       "     stars                                         review        date country\n",
       "8164     o                 life changing.... A must read.  2010-05-14     NaN\n",
       "8171     o                   great. Wish there were more!  2010-02-23     NaN\n",
       "8193     o  very interesting. wow a very interesting book  2009-09-15     NaN\n",
       "8205     o       Ground breaking. It all makes such sense  2009-07-02     NaN\n",
       "8348     o                     Outliers. Excellent Book !  2009-08-25     NaN\n",
       "8351     o                Loved it!. Highly recommend it!  2009-04-20     NaN\n",
       "8370     o                        Outliers. an Eye opener  2009-03-22     NaN\n",
       "8381     o                   liked it a lot. great reader  2009-04-12     NaN"
      ]
     },
     "execution_count": 130,
     "metadata": {},
     "output_type": "execute_result"
    }
   ],
   "source": [
    "invalid_stars = df[df.stars == 'o']\n",
    "invalid_stars"
   ]
  },
  {
   "cell_type": "code",
   "execution_count": 133,
   "metadata": {},
   "outputs": [],
   "source": [
    "df = df.drop(index=invalid_stars.index)"
   ]
  },
  {
   "cell_type": "code",
   "execution_count": 134,
   "metadata": {},
   "outputs": [],
   "source": [
    "df['stars'] = df.stars.astype(int)"
   ]
  },
  {
   "cell_type": "code",
   "execution_count": 135,
   "metadata": {},
   "outputs": [
    {
     "data": {
      "text/plain": [
       "5    6363\n",
       "4    1621\n",
       "3     483\n",
       "2     211\n",
       "1     194\n",
       "Name: stars, dtype: int64"
      ]
     },
     "execution_count": 135,
     "metadata": {},
     "output_type": "execute_result"
    }
   ],
   "source": [
    "df.stars.value_counts()"
   ]
  },
  {
   "cell_type": "code",
   "execution_count": 136,
   "metadata": {},
   "outputs": [],
   "source": [
    "df.to_csv('../dataset/joined/reviews-outliers-the_story_of_success.csv', index=False)"
   ]
  }
 ],
 "metadata": {
  "interpreter": {
   "hash": "0d8aee86fee2b3ba25d32dc9f725c5d414dda3463734cf4a34eb13ce0a97930c"
  },
  "kernelspec": {
   "display_name": "Python 3.8.0 ('pos')",
   "language": "python",
   "name": "python3"
  },
  "language_info": {
   "codemirror_mode": {
    "name": "ipython",
    "version": 3
   },
   "file_extension": ".py",
   "mimetype": "text/x-python",
   "name": "python",
   "nbconvert_exporter": "python",
   "pygments_lexer": "ipython3",
   "version": "3.8.0"
  },
  "orig_nbformat": 4
 },
 "nbformat": 4,
 "nbformat_minor": 2
}
