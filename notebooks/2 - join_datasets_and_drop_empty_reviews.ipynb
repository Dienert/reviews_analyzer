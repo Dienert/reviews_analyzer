{
 "cells": [
  {
   "cell_type": "code",
   "execution_count": 10,
   "metadata": {},
   "outputs": [],
   "source": [
    "import pandas as pd\n",
    "from glob import glob"
   ]
  },
  {
   "cell_type": "code",
   "execution_count": 11,
   "metadata": {},
   "outputs": [
    {
     "data": {
      "text/plain": [
       "['../dataset/cleansed\\\\amazon.csv',\n",
       " '../dataset/cleansed\\\\audible.csv',\n",
       " '../dataset/cleansed\\\\barnesandnoble.csv',\n",
       " '../dataset/cleansed\\\\flipkart.csv',\n",
       " '../dataset/cleansed\\\\goodreads.csv']"
      ]
     },
     "execution_count": 11,
     "metadata": {},
     "output_type": "execute_result"
    }
   ],
   "source": [
    "datasets = glob(\"../dataset/cleansed/*\")\n",
    "datasets"
   ]
  },
  {
   "cell_type": "code",
   "execution_count": 12,
   "metadata": {},
   "outputs": [
    {
     "data": {
      "text/html": [
       "<div>\n",
       "<style scoped>\n",
       "    .dataframe tbody tr th:only-of-type {\n",
       "        vertical-align: middle;\n",
       "    }\n",
       "\n",
       "    .dataframe tbody tr th {\n",
       "        vertical-align: top;\n",
       "    }\n",
       "\n",
       "    .dataframe thead th {\n",
       "        text-align: right;\n",
       "    }\n",
       "</style>\n",
       "<table border=\"1\" class=\"dataframe\">\n",
       "  <thead>\n",
       "    <tr style=\"text-align: right;\">\n",
       "      <th></th>\n",
       "      <th>reviewer</th>\n",
       "      <th>stars</th>\n",
       "      <th>title</th>\n",
       "      <th>review</th>\n",
       "      <th>date</th>\n",
       "      <th>country</th>\n",
       "    </tr>\n",
       "  </thead>\n",
       "  <tbody>\n",
       "    <tr>\n",
       "      <th>0</th>\n",
       "      <td>Spectrum314k</td>\n",
       "      <td>1</td>\n",
       "      <td>Journalism and pseudoscience</td>\n",
       "      <td>Journalism and pseudoscience. Having read lots...</td>\n",
       "      <td>2017-11-12</td>\n",
       "      <td>Reino Unido</td>\n",
       "    </tr>\n",
       "    <tr>\n",
       "      <th>1</th>\n",
       "      <td>Stiven Skyrah</td>\n",
       "      <td>5</td>\n",
       "      <td>Salient and grounded</td>\n",
       "      <td>Salient and grounded. ​Gladwell argues that su...</td>\n",
       "      <td>2018-03-03</td>\n",
       "      <td>Reino Unido</td>\n",
       "    </tr>\n",
       "    <tr>\n",
       "      <th>2</th>\n",
       "      <td>J C Mitchinson</td>\n",
       "      <td>3</td>\n",
       "      <td>Interesting enough but certainly no revelation</td>\n",
       "      <td>Interesting enough but certainly no revelation...</td>\n",
       "      <td>2014-06-23</td>\n",
       "      <td>Reino Unido</td>\n",
       "    </tr>\n",
       "    <tr>\n",
       "      <th>3</th>\n",
       "      <td>Marty M</td>\n",
       "      <td>5</td>\n",
       "      <td>Fascinating and  thought-provoking</td>\n",
       "      <td>Fascinating and  thought-provoking. It takes a...</td>\n",
       "      <td>2019-01-17</td>\n",
       "      <td>Reino Unido</td>\n",
       "    </tr>\n",
       "    <tr>\n",
       "      <th>4</th>\n",
       "      <td>bobrayner</td>\n",
       "      <td>3</td>\n",
       "      <td>Enjoyable read but scientifically it makes me ...</td>\n",
       "      <td>Enjoyable read but scientifically it makes me ...</td>\n",
       "      <td>2020-02-18</td>\n",
       "      <td>Reino Unido</td>\n",
       "    </tr>\n",
       "    <tr>\n",
       "      <th>...</th>\n",
       "      <td>...</td>\n",
       "      <td>...</td>\n",
       "      <td>...</td>\n",
       "      <td>...</td>\n",
       "      <td>...</td>\n",
       "      <td>...</td>\n",
       "    </tr>\n",
       "    <tr>\n",
       "      <th>25</th>\n",
       "      <td>Tanu</td>\n",
       "      <td>5</td>\n",
       "      <td>NaN</td>\n",
       "      <td>NaN</td>\n",
       "      <td>2021-05-25</td>\n",
       "      <td>NaN</td>\n",
       "    </tr>\n",
       "    <tr>\n",
       "      <th>26</th>\n",
       "      <td>Kressel Housman</td>\n",
       "      <td>5</td>\n",
       "      <td>NaN</td>\n",
       "      <td>This has got to be Malcolm Gladwell’s best boo...</td>\n",
       "      <td>2008-12-11</td>\n",
       "      <td>NaN</td>\n",
       "    </tr>\n",
       "    <tr>\n",
       "      <th>27</th>\n",
       "      <td>Emma Deplores Goodreads Censorship</td>\n",
       "      <td>2</td>\n",
       "      <td>NaN</td>\n",
       "      <td>This is one of those books that give popular n...</td>\n",
       "      <td>2019-07-21</td>\n",
       "      <td>NaN</td>\n",
       "    </tr>\n",
       "    <tr>\n",
       "      <th>28</th>\n",
       "      <td>Riku Sayuj</td>\n",
       "      <td>5</td>\n",
       "      <td>NaN</td>\n",
       "      <td>My first exposure to Gladwell. SO was more or ...</td>\n",
       "      <td>2011-07-14</td>\n",
       "      <td>NaN</td>\n",
       "    </tr>\n",
       "    <tr>\n",
       "      <th>29</th>\n",
       "      <td>Tatevik is on semi hiatus (trying to finish PHD)</td>\n",
       "      <td>5</td>\n",
       "      <td>NaN</td>\n",
       "      <td>This is officially the best book of 2019. Damn...</td>\n",
       "      <td>2019-12-28</td>\n",
       "      <td>NaN</td>\n",
       "    </tr>\n",
       "  </tbody>\n",
       "</table>\n",
       "<p>10037 rows × 6 columns</p>\n",
       "</div>"
      ],
      "text/plain": [
       "                                            reviewer stars  \\\n",
       "0                                       Spectrum314k     1   \n",
       "1                                      Stiven Skyrah     5   \n",
       "2                                     J C Mitchinson     3   \n",
       "3                                            Marty M     5   \n",
       "4                                          bobrayner     3   \n",
       "..                                               ...   ...   \n",
       "25                                              Tanu     5   \n",
       "26                                   Kressel Housman     5   \n",
       "27                Emma Deplores Goodreads Censorship     2   \n",
       "28                                        Riku Sayuj     5   \n",
       "29  Tatevik is on semi hiatus (trying to finish PHD)     5   \n",
       "\n",
       "                                                title  \\\n",
       "0                        Journalism and pseudoscience   \n",
       "1                                Salient and grounded   \n",
       "2      Interesting enough but certainly no revelation   \n",
       "3                  Fascinating and  thought-provoking   \n",
       "4   Enjoyable read but scientifically it makes me ...   \n",
       "..                                                ...   \n",
       "25                                                NaN   \n",
       "26                                                NaN   \n",
       "27                                                NaN   \n",
       "28                                                NaN   \n",
       "29                                                NaN   \n",
       "\n",
       "                                               review        date      country  \n",
       "0   Journalism and pseudoscience. Having read lots...  2017-11-12  Reino Unido  \n",
       "1   Salient and grounded. ​Gladwell argues that su...  2018-03-03  Reino Unido  \n",
       "2   Interesting enough but certainly no revelation...  2014-06-23  Reino Unido  \n",
       "3   Fascinating and  thought-provoking. It takes a...  2019-01-17  Reino Unido  \n",
       "4   Enjoyable read but scientifically it makes me ...  2020-02-18  Reino Unido  \n",
       "..                                                ...         ...          ...  \n",
       "25                                                NaN  2021-05-25          NaN  \n",
       "26  This has got to be Malcolm Gladwell’s best boo...  2008-12-11          NaN  \n",
       "27  This is one of those books that give popular n...  2019-07-21          NaN  \n",
       "28  My first exposure to Gladwell. SO was more or ...  2011-07-14          NaN  \n",
       "29  This is officially the best book of 2019. Damn...  2019-12-28          NaN  \n",
       "\n",
       "[10037 rows x 6 columns]"
      ]
     },
     "execution_count": 12,
     "metadata": {},
     "output_type": "execute_result"
    }
   ],
   "source": [
    "df = pd.DataFrame([])\n",
    "for dataset in datasets:\n",
    "    tmp_df = pd.read_csv(dataset)\n",
    "    df = pd.concat([df, tmp_df])\n",
    "df"
   ]
  },
  {
   "cell_type": "code",
   "execution_count": 13,
   "metadata": {},
   "outputs": [
    {
     "data": {
      "text/plain": [
       "False    8880\n",
       "True     1157\n",
       "Name: review, dtype: int64"
      ]
     },
     "execution_count": 13,
     "metadata": {},
     "output_type": "execute_result"
    }
   ],
   "source": [
    "df.review.isna().value_counts()"
   ]
  },
  {
   "cell_type": "code",
   "execution_count": 14,
   "metadata": {},
   "outputs": [],
   "source": [
    "df = df.dropna(subset=['review'])\n",
    "df = df.drop(columns=['reviewer', 'title'])"
   ]
  },
  {
   "cell_type": "code",
   "execution_count": 15,
   "metadata": {},
   "outputs": [],
   "source": [
    "df.to_csv('../dataset/joined/reviews-outliers-the_story_of_success.csv', index=False)"
   ]
  }
 ],
 "metadata": {
  "interpreter": {
   "hash": "0d8aee86fee2b3ba25d32dc9f725c5d414dda3463734cf4a34eb13ce0a97930c"
  },
  "kernelspec": {
   "display_name": "Python 3.8.0 ('pos')",
   "language": "python",
   "name": "python3"
  },
  "language_info": {
   "codemirror_mode": {
    "name": "ipython",
    "version": 3
   },
   "file_extension": ".py",
   "mimetype": "text/x-python",
   "name": "python",
   "nbconvert_exporter": "python",
   "pygments_lexer": "ipython3",
   "version": "3.8.0"
  },
  "orig_nbformat": 4
 },
 "nbformat": 4,
 "nbformat_minor": 2
}
