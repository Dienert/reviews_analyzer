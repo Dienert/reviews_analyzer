{
 "cells": [
  {
   "cell_type": "code",
   "execution_count": 1,
   "metadata": {},
   "outputs": [],
   "source": [
    "import pandas as pd\n",
    "from sklearn.model_selection import train_test_split"
   ]
  },
  {
   "cell_type": "code",
   "execution_count": 56,
   "metadata": {},
   "outputs": [],
   "source": [
    "df = pd.read_csv('../dataset/joined/reviews-outliers-the_story_of_success.csv')"
   ]
  },
  {
   "cell_type": "code",
   "execution_count": 57,
   "metadata": {},
   "outputs": [
    {
     "data": {
      "text/html": [
       "<div>\n",
       "<style scoped>\n",
       "    .dataframe tbody tr th:only-of-type {\n",
       "        vertical-align: middle;\n",
       "    }\n",
       "\n",
       "    .dataframe tbody tr th {\n",
       "        vertical-align: top;\n",
       "    }\n",
       "\n",
       "    .dataframe thead th {\n",
       "        text-align: right;\n",
       "    }\n",
       "</style>\n",
       "<table border=\"1\" class=\"dataframe\">\n",
       "  <thead>\n",
       "    <tr style=\"text-align: right;\">\n",
       "      <th></th>\n",
       "      <th>stars</th>\n",
       "      <th>review</th>\n",
       "      <th>date</th>\n",
       "      <th>country</th>\n",
       "    </tr>\n",
       "  </thead>\n",
       "  <tbody>\n",
       "    <tr>\n",
       "      <th>0</th>\n",
       "      <td>1</td>\n",
       "      <td>Journalism and pseudoscience. Having read lots...</td>\n",
       "      <td>2017-11-12</td>\n",
       "      <td>Reino Unido</td>\n",
       "    </tr>\n",
       "    <tr>\n",
       "      <th>1</th>\n",
       "      <td>5</td>\n",
       "      <td>Salient and grounded. ​Gladwell argues that su...</td>\n",
       "      <td>2018-03-03</td>\n",
       "      <td>Reino Unido</td>\n",
       "    </tr>\n",
       "    <tr>\n",
       "      <th>2</th>\n",
       "      <td>3</td>\n",
       "      <td>Interesting enough but certainly no revelation...</td>\n",
       "      <td>2014-06-23</td>\n",
       "      <td>Reino Unido</td>\n",
       "    </tr>\n",
       "    <tr>\n",
       "      <th>3</th>\n",
       "      <td>5</td>\n",
       "      <td>Fascinating and thought-provoking. It takes a ...</td>\n",
       "      <td>2019-01-17</td>\n",
       "      <td>Reino Unido</td>\n",
       "    </tr>\n",
       "    <tr>\n",
       "      <th>4</th>\n",
       "      <td>3</td>\n",
       "      <td>Enjoyable read but scientifically it makes me ...</td>\n",
       "      <td>2020-02-18</td>\n",
       "      <td>Reino Unido</td>\n",
       "    </tr>\n",
       "    <tr>\n",
       "      <th>...</th>\n",
       "      <td>...</td>\n",
       "      <td>...</td>\n",
       "      <td>...</td>\n",
       "      <td>...</td>\n",
       "    </tr>\n",
       "    <tr>\n",
       "      <th>8867</th>\n",
       "      <td>3</td>\n",
       "      <td>This one is a weird one for me to write, and I...</td>\n",
       "      <td>2021-06-26</td>\n",
       "      <td>NaN</td>\n",
       "    </tr>\n",
       "    <tr>\n",
       "      <th>8868</th>\n",
       "      <td>5</td>\n",
       "      <td>This has got to be Malcolm Gladwell’s best boo...</td>\n",
       "      <td>2008-12-11</td>\n",
       "      <td>NaN</td>\n",
       "    </tr>\n",
       "    <tr>\n",
       "      <th>8869</th>\n",
       "      <td>2</td>\n",
       "      <td>This is one of those books that give popular n...</td>\n",
       "      <td>2019-07-21</td>\n",
       "      <td>NaN</td>\n",
       "    </tr>\n",
       "    <tr>\n",
       "      <th>8870</th>\n",
       "      <td>5</td>\n",
       "      <td>My first exposure to Gladwell. SO was more or ...</td>\n",
       "      <td>2011-07-14</td>\n",
       "      <td>NaN</td>\n",
       "    </tr>\n",
       "    <tr>\n",
       "      <th>8871</th>\n",
       "      <td>5</td>\n",
       "      <td>This is officially the best book of 2019. Damn...</td>\n",
       "      <td>2019-12-28</td>\n",
       "      <td>NaN</td>\n",
       "    </tr>\n",
       "  </tbody>\n",
       "</table>\n",
       "<p>8872 rows × 4 columns</p>\n",
       "</div>"
      ],
      "text/plain": [
       "      stars                                             review        date  \\\n",
       "0         1  Journalism and pseudoscience. Having read lots...  2017-11-12   \n",
       "1         5  Salient and grounded. ​Gladwell argues that su...  2018-03-03   \n",
       "2         3  Interesting enough but certainly no revelation...  2014-06-23   \n",
       "3         5  Fascinating and thought-provoking. It takes a ...  2019-01-17   \n",
       "4         3  Enjoyable read but scientifically it makes me ...  2020-02-18   \n",
       "...     ...                                                ...         ...   \n",
       "8867      3  This one is a weird one for me to write, and I...  2021-06-26   \n",
       "8868      5  This has got to be Malcolm Gladwell’s best boo...  2008-12-11   \n",
       "8869      2  This is one of those books that give popular n...  2019-07-21   \n",
       "8870      5  My first exposure to Gladwell. SO was more or ...  2011-07-14   \n",
       "8871      5  This is officially the best book of 2019. Damn...  2019-12-28   \n",
       "\n",
       "          country  \n",
       "0     Reino Unido  \n",
       "1     Reino Unido  \n",
       "2     Reino Unido  \n",
       "3     Reino Unido  \n",
       "4     Reino Unido  \n",
       "...           ...  \n",
       "8867          NaN  \n",
       "8868          NaN  \n",
       "8869          NaN  \n",
       "8870          NaN  \n",
       "8871          NaN  \n",
       "\n",
       "[8872 rows x 4 columns]"
      ]
     },
     "execution_count": 57,
     "metadata": {},
     "output_type": "execute_result"
    }
   ],
   "source": [
    "df"
   ]
  },
  {
   "cell_type": "code",
   "execution_count": 58,
   "metadata": {},
   "outputs": [
    {
     "data": {
      "text/plain": [
       "5    6363\n",
       "4    1621\n",
       "3     483\n",
       "2     211\n",
       "1     194\n",
       "Name: stars, dtype: int64"
      ]
     },
     "execution_count": 58,
     "metadata": {},
     "output_type": "execute_result"
    }
   ],
   "source": [
    "df.stars.value_counts()"
   ]
  },
  {
   "cell_type": "code",
   "execution_count": 59,
   "metadata": {},
   "outputs": [],
   "source": [
    "sentiments_mapping = {1: 0, 2:0, 3: 0, 4: 1,5: 2}"
   ]
  },
  {
   "cell_type": "code",
   "execution_count": 60,
   "metadata": {},
   "outputs": [],
   "source": [
    "df['y'] = df.stars.map(sentiments_mapping)"
   ]
  },
  {
   "cell_type": "code",
   "execution_count": 61,
   "metadata": {},
   "outputs": [
    {
     "data": {
      "text/plain": [
       "2    6363\n",
       "1    1621\n",
       "0     888\n",
       "Name: y, dtype: int64"
      ]
     },
     "execution_count": 61,
     "metadata": {},
     "output_type": "execute_result"
    }
   ],
   "source": [
    "df.y.value_counts()"
   ]
  },
  {
   "cell_type": "code",
   "execution_count": 62,
   "metadata": {},
   "outputs": [],
   "source": [
    "df_2 = df[df.y == 2]"
   ]
  },
  {
   "cell_type": "code",
   "execution_count": 63,
   "metadata": {},
   "outputs": [
    {
     "data": {
      "text/plain": [
       "6363"
      ]
     },
     "execution_count": 63,
     "metadata": {},
     "output_type": "execute_result"
    }
   ],
   "source": [
    "len(df_2)"
   ]
  },
  {
   "cell_type": "code",
   "execution_count": 64,
   "metadata": {},
   "outputs": [
    {
     "data": {
      "text/plain": [
       "2509"
      ]
     },
     "execution_count": 64,
     "metadata": {},
     "output_type": "execute_result"
    }
   ],
   "source": [
    "df_not_2 = df[df.y != 2]\n",
    "len(df_not_2)"
   ]
  },
  {
   "cell_type": "code",
   "execution_count": 65,
   "metadata": {},
   "outputs": [
    {
     "data": {
      "text/plain": [
       "2000"
      ]
     },
     "execution_count": 65,
     "metadata": {},
     "output_type": "execute_result"
    }
   ],
   "source": [
    "df_2 = df_2.iloc[:2000]\n",
    "len(df_2)"
   ]
  },
  {
   "cell_type": "code",
   "execution_count": 66,
   "metadata": {},
   "outputs": [],
   "source": [
    "df = pd.concat([df_2, df_not_2])"
   ]
  },
  {
   "cell_type": "code",
   "execution_count": 67,
   "metadata": {},
   "outputs": [
    {
     "data": {
      "text/plain": [
       "2    2000\n",
       "1    1621\n",
       "0     888\n",
       "Name: y, dtype: int64"
      ]
     },
     "execution_count": 67,
     "metadata": {},
     "output_type": "execute_result"
    }
   ],
   "source": [
    "df.y.value_counts()"
   ]
  },
  {
   "cell_type": "code",
   "execution_count": 68,
   "metadata": {},
   "outputs": [
    {
     "data": {
      "text/plain": [
       "4509"
      ]
     },
     "execution_count": 68,
     "metadata": {},
     "output_type": "execute_result"
    }
   ],
   "source": [
    "data_size = len(df)\n",
    "data_size"
   ]
  },
  {
   "cell_type": "code",
   "execution_count": 69,
   "metadata": {},
   "outputs": [
    {
     "data": {
      "text/plain": [
       "541.0799999999999"
      ]
     },
     "execution_count": 69,
     "metadata": {},
     "output_type": "execute_result"
    }
   ],
   "source": [
    "data_size * .12"
   ]
  },
  {
   "cell_type": "code",
   "execution_count": 70,
   "metadata": {},
   "outputs": [],
   "source": [
    "x = df.review\n",
    "y = df.y"
   ]
  },
  {
   "cell_type": "code",
   "execution_count": 71,
   "metadata": {},
   "outputs": [],
   "source": [
    "x_train, x_test, y_train, y_test = train_test_split(x, y, test_size=0.12, \n",
    "                                                    random_state=42, stratify=y)"
   ]
  },
  {
   "cell_type": "code",
   "execution_count": 72,
   "metadata": {},
   "outputs": [
    {
     "data": {
      "text/plain": [
       "3967"
      ]
     },
     "execution_count": 72,
     "metadata": {},
     "output_type": "execute_result"
    }
   ],
   "source": [
    "first_split_train_size = len(y_train)\n",
    "first_split_train_size"
   ]
  },
  {
   "cell_type": "code",
   "execution_count": 73,
   "metadata": {},
   "outputs": [
    {
     "data": {
      "text/plain": [
       "542"
      ]
     },
     "execution_count": 73,
     "metadata": {},
     "output_type": "execute_result"
    }
   ],
   "source": [
    "y_test_size = len(y_test)\n",
    "y_test_size"
   ]
  },
  {
   "cell_type": "code",
   "execution_count": 74,
   "metadata": {},
   "outputs": [
    {
     "data": {
      "text/plain": [
       "0.1366271741870431"
      ]
     },
     "execution_count": 74,
     "metadata": {},
     "output_type": "execute_result"
    }
   ],
   "source": [
    "val_proportion = y_test_size/first_split_train_size\n",
    "val_proportion"
   ]
  },
  {
   "cell_type": "code",
   "execution_count": 75,
   "metadata": {},
   "outputs": [],
   "source": [
    "x_train, x_val, y_train, y_val = train_test_split(x_train, y_train, test_size=val_proportion, \n",
    "                                                  random_state=42, stratify=y_train)"
   ]
  },
  {
   "cell_type": "code",
   "execution_count": 76,
   "metadata": {},
   "outputs": [
    {
     "data": {
      "text/plain": [
       "542"
      ]
     },
     "execution_count": 76,
     "metadata": {},
     "output_type": "execute_result"
    }
   ],
   "source": [
    "len(y_val)"
   ]
  },
  {
   "cell_type": "code",
   "execution_count": 77,
   "metadata": {},
   "outputs": [
    {
     "data": {
      "text/plain": [
       "3425"
      ]
     },
     "execution_count": 77,
     "metadata": {},
     "output_type": "execute_result"
    }
   ],
   "source": [
    "len(y_train)"
   ]
  },
  {
   "cell_type": "code",
   "execution_count": 78,
   "metadata": {},
   "outputs": [
    {
     "name": "stdout",
     "output_type": "stream",
     "text": [
      "train (proportions):\n",
      "2    0.443796\n",
      "1    0.359416\n",
      "0    0.196788\n",
      "Name: y, dtype: float64\n",
      "train (counts):\n",
      "2    1520\n",
      "1    1231\n",
      "0     674\n",
      "Name: y, dtype: int64\n",
      "val (proportions):\n",
      "2    0.442804\n",
      "1    0.359779\n",
      "0    0.197417\n",
      "Name: y, dtype: float64\n",
      "val (counts):\n",
      "2    240\n",
      "1    195\n",
      "0    107\n",
      "Name: y, dtype: int64\n",
      "test (proportions):\n",
      "2    0.442804\n",
      "1    0.359779\n",
      "0    0.197417\n",
      "Name: y, dtype: float64\n",
      "test (counts):\n",
      "2    240\n",
      "1    195\n",
      "0    107\n",
      "Name: y, dtype: int64\n"
     ]
    }
   ],
   "source": [
    "for subset in ['train', 'val', 'test']:\n",
    "    print(f\"{subset} (proportions):\\n{eval(f'y_{subset}').value_counts(normalize=True)}\")\n",
    "    print(f\"{subset} (counts):\\n{eval(f'y_{subset}').value_counts(normalize=False)}\")"
   ]
  },
  {
   "cell_type": "code",
   "execution_count": 79,
   "metadata": {},
   "outputs": [],
   "source": [
    "for subset in ['train', 'val', 'test']:\n",
    "    pd.DataFrame({'x': eval(f'x_{subset}'), 'y': eval(f'y_{subset}')}).to_csv(f'../dataset/final_binary_label/{subset}.csv', index=False)"
   ]
  }
 ],
 "metadata": {
  "interpreter": {
   "hash": "0d8aee86fee2b3ba25d32dc9f725c5d414dda3463734cf4a34eb13ce0a97930c"
  },
  "kernelspec": {
   "display_name": "Python 3.8.0 ('pos')",
   "language": "python",
   "name": "python3"
  },
  "language_info": {
   "codemirror_mode": {
    "name": "ipython",
    "version": 3
   },
   "file_extension": ".py",
   "mimetype": "text/x-python",
   "name": "python",
   "nbconvert_exporter": "python",
   "pygments_lexer": "ipython3",
   "version": "3.8.0"
  },
  "orig_nbformat": 4
 },
 "nbformat": 4,
 "nbformat_minor": 2
}
